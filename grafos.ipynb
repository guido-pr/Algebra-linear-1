{
 "cells": [
  {
   "cell_type": "markdown",
   "metadata": {},
   "source": [
    "# Grafos e matrizes"
   ]
  },
  {
   "cell_type": "code",
   "execution_count": 99,
   "metadata": {},
   "outputs": [],
   "source": [
    "from sympy import Matrix, zeros, linsolve, S, re, im"
   ]
  },
  {
   "cell_type": "markdown",
   "metadata": {},
   "source": [
    "## Exercício 48.1"
   ]
  },
  {
   "cell_type": "markdown",
   "metadata": {},
   "source": [
    "### Função da matriz de adjacência:"
   ]
  },
  {
   "cell_type": "code",
   "execution_count": 100,
   "metadata": {},
   "outputs": [],
   "source": [
    "def adjacency_matrix(vertex, edge_list):\n",
    "    # Criar uma matriz nula de dimensão 'vertex x vertex'\n",
    "    adj_matrix = zeros(vertex, vertex)\n",
    "\n",
    "    # Preencher a matriz de adjacência\n",
    "    for u, v in edge_list:\n",
    "        adj_matrix[u, v] = 1  # Conexão u -> v\n",
    "        adj_matrix[v, u] = 1  # Conexão v -> u (grafo não direcionado)\n",
    "\n",
    "    return adj_matrix"
   ]
  },
  {
   "cell_type": "markdown",
   "metadata": {},
   "source": [
    "### Função da matriz de grau:"
   ]
  },
  {
   "cell_type": "code",
   "execution_count": 101,
   "metadata": {},
   "outputs": [],
   "source": [
    "def degree_matrix(vertex, edge_list):\n",
    "    # Criar uma matriz nula de dimensão 'vertex x vertex'\n",
    "    dgr_matrix = zeros(vertex, vertex)\n",
    "\n",
    "    # Preencher a matriz de grau\n",
    "    for i in range(vertex):\n",
    "        dgr_matrix[i, i] = sum(adjacency_matrix(vertex, edge_list)[i,:]) # somar os elementos das linhas da matriz de adjacência\n",
    "\n",
    "    return dgr_matrix"
   ]
  },
  {
   "cell_type": "markdown",
   "metadata": {},
   "source": [
    "### Função da matriz laplaciana:"
   ]
  },
  {
   "cell_type": "code",
   "execution_count": 102,
   "metadata": {},
   "outputs": [],
   "source": [
    "def laplacian(vertex, edge_list):\n",
    "\n",
    "    laplacian_Matrix = degree_matrix(vertex, edge_list) - adjacency_matrix(vertex, edge_list)\n",
    "    \n",
    "    return laplacian_Matrix\n",
    "    "
   ]
  },
  {
   "cell_type": "markdown",
   "metadata": {},
   "source": [
    "### Definição da lista e do número de vértices:"
   ]
  },
  {
   "cell_type": "code",
   "execution_count": 103,
   "metadata": {},
   "outputs": [],
   "source": [
    "edge_list = [(0,1),(0,4),(1,2),(1,4),(2,3),(3,4),(3,5)]\n",
    "vertex = len(edge_list) - 1"
   ]
  },
  {
   "cell_type": "markdown",
   "metadata": {},
   "source": [
    "### Matriz de adjacência:"
   ]
  },
  {
   "cell_type": "code",
   "execution_count": 104,
   "metadata": {},
   "outputs": [
    {
     "data": {
      "text/latex": [
       "$\\displaystyle \\left[\\begin{matrix}0 & 1 & 0 & 0 & 1 & 0\\\\1 & 0 & 1 & 0 & 1 & 0\\\\0 & 1 & 0 & 1 & 0 & 0\\\\0 & 0 & 1 & 0 & 1 & 1\\\\1 & 1 & 0 & 1 & 0 & 0\\\\0 & 0 & 0 & 1 & 0 & 0\\end{matrix}\\right]$"
      ],
      "text/plain": [
       "Matrix([\n",
       "[0, 1, 0, 0, 1, 0],\n",
       "[1, 0, 1, 0, 1, 0],\n",
       "[0, 1, 0, 1, 0, 0],\n",
       "[0, 0, 1, 0, 1, 1],\n",
       "[1, 1, 0, 1, 0, 0],\n",
       "[0, 0, 0, 1, 0, 0]])"
      ]
     },
     "execution_count": 104,
     "metadata": {},
     "output_type": "execute_result"
    }
   ],
   "source": [
    "adjacency_M = adjacency_matrix(vertex, edge_list)\n",
    "adjacency_M"
   ]
  },
  {
   "cell_type": "markdown",
   "metadata": {},
   "source": [
    "### Matriz de grau:"
   ]
  },
  {
   "cell_type": "code",
   "execution_count": 105,
   "metadata": {},
   "outputs": [
    {
     "data": {
      "text/latex": [
       "$\\displaystyle \\left[\\begin{matrix}2 & 0 & 0 & 0 & 0 & 0\\\\0 & 3 & 0 & 0 & 0 & 0\\\\0 & 0 & 2 & 0 & 0 & 0\\\\0 & 0 & 0 & 3 & 0 & 0\\\\0 & 0 & 0 & 0 & 3 & 0\\\\0 & 0 & 0 & 0 & 0 & 1\\end{matrix}\\right]$"
      ],
      "text/plain": [
       "Matrix([\n",
       "[2, 0, 0, 0, 0, 0],\n",
       "[0, 3, 0, 0, 0, 0],\n",
       "[0, 0, 2, 0, 0, 0],\n",
       "[0, 0, 0, 3, 0, 0],\n",
       "[0, 0, 0, 0, 3, 0],\n",
       "[0, 0, 0, 0, 0, 1]])"
      ]
     },
     "execution_count": 105,
     "metadata": {},
     "output_type": "execute_result"
    }
   ],
   "source": [
    "degree_M = degree_matrix(vertex, edge_list)\n",
    "degree_M"
   ]
  },
  {
   "cell_type": "markdown",
   "metadata": {},
   "source": [
    "### Matriz laplaciana:"
   ]
  },
  {
   "cell_type": "code",
   "execution_count": 106,
   "metadata": {},
   "outputs": [
    {
     "data": {
      "text/latex": [
       "$\\displaystyle \\left[\\begin{matrix}2 & -1 & 0 & 0 & -1 & 0\\\\-1 & 3 & -1 & 0 & -1 & 0\\\\0 & -1 & 2 & -1 & 0 & 0\\\\0 & 0 & -1 & 3 & -1 & -1\\\\-1 & -1 & 0 & -1 & 3 & 0\\\\0 & 0 & 0 & -1 & 0 & 1\\end{matrix}\\right]$"
      ],
      "text/plain": [
       "Matrix([\n",
       "[ 2, -1,  0,  0, -1,  0],\n",
       "[-1,  3, -1,  0, -1,  0],\n",
       "[ 0, -1,  2, -1,  0,  0],\n",
       "[ 0,  0, -1,  3, -1, -1],\n",
       "[-1, -1,  0, -1,  3,  0],\n",
       "[ 0,  0,  0, -1,  0,  1]])"
      ]
     },
     "execution_count": 106,
     "metadata": {},
     "output_type": "execute_result"
    }
   ],
   "source": [
    "laplacian_M = laplacian(vertex, edge_list)\n",
    "laplacian_M"
   ]
  },
  {
   "cell_type": "markdown",
   "metadata": {},
   "source": [
    "## Exercício 48.2"
   ]
  },
  {
   "cell_type": "markdown",
   "metadata": {},
   "source": [
    "### 1. Número de componentes conexos:"
   ]
  },
  {
   "cell_type": "code",
   "execution_count": 107,
   "metadata": {},
   "outputs": [
    {
     "name": "stdout",
     "output_type": "stream",
     "text": [
      "{3: 1, 11/4 + sqrt(43/6 - 2*(703/216 + sqrt(6351)*I/72)**(1/3) - 3/(4*sqrt(43/12 + 41/(9*(703/216 + sqrt(6351)*I/72)**(1/3)) + 2*(703/216 + sqrt(6351)*I/72)**(1/3))) - 41/(9*(703/216 + sqrt(6351)*I/72)**(1/3)))/2 - sqrt(43/12 + 41/(9*(703/216 + sqrt(6351)*I/72)**(1/3)) + 2*(703/216 + sqrt(6351)*I/72)**(1/3))/2: 1, 11/4 - sqrt(43/12 + 41/(9*(703/216 + sqrt(6351)*I/72)**(1/3)) + 2*(703/216 + sqrt(6351)*I/72)**(1/3))/2 - sqrt(43/6 - 2*(703/216 + sqrt(6351)*I/72)**(1/3) - 3/(4*sqrt(43/12 + 41/(9*(703/216 + sqrt(6351)*I/72)**(1/3)) + 2*(703/216 + sqrt(6351)*I/72)**(1/3))) - 41/(9*(703/216 + sqrt(6351)*I/72)**(1/3)))/2: 1, 11/4 + sqrt(43/6 - 2*(703/216 + sqrt(6351)*I/72)**(1/3) + 3/(4*sqrt(43/12 + 41/(9*(703/216 + sqrt(6351)*I/72)**(1/3)) + 2*(703/216 + sqrt(6351)*I/72)**(1/3))) - 41/(9*(703/216 + sqrt(6351)*I/72)**(1/3)))/2 + sqrt(43/12 + 41/(9*(703/216 + sqrt(6351)*I/72)**(1/3)) + 2*(703/216 + sqrt(6351)*I/72)**(1/3))/2: 1, 11/4 + sqrt(43/12 + 41/(9*(703/216 + sqrt(6351)*I/72)**(1/3)) + 2*(703/216 + sqrt(6351)*I/72)**(1/3))/2 - sqrt(43/6 - 2*(703/216 + sqrt(6351)*I/72)**(1/3) + 3/(4*sqrt(43/12 + 41/(9*(703/216 + sqrt(6351)*I/72)**(1/3)) + 2*(703/216 + sqrt(6351)*I/72)**(1/3))) - 41/(9*(703/216 + sqrt(6351)*I/72)**(1/3)))/2: 1, 0: 1}\n",
      "Multiplicidade do autovalor 0: 1, em que esta é a quantidade de componentes conexos\n"
     ]
    }
   ],
   "source": [
    "autovalores = laplacian_M.eigenvals()\n",
    "print(autovalores)\n",
    "componentes_conexos = autovalores.get(0, 0)\n",
    "print(f'Multiplicidade do autovalor 0: {componentes_conexos}, em que esta é a quantidade de componentes conexos')"
   ]
  },
  {
   "cell_type": "markdown",
   "metadata": {},
   "source": [
    "### 2. a. Número de triângulos do grafo a partir do Traço:"
   ]
  },
  {
   "cell_type": "code",
   "execution_count": 108,
   "metadata": {},
   "outputs": [
    {
     "name": "stdout",
     "output_type": "stream",
     "text": [
      "Traço de A^3: 6 Número de triângulos do grafo: 1\n"
     ]
    },
    {
     "data": {
      "text/latex": [
       "$\\displaystyle \\left[\\begin{matrix}2 & 4 & 2 & 2 & 4 & 1\\\\4 & 2 & 5 & 1 & 6 & 2\\\\2 & 5 & 0 & 5 & 1 & 0\\\\2 & 1 & 5 & 0 & 6 & 3\\\\4 & 6 & 1 & 6 & 2 & 0\\\\1 & 2 & 0 & 3 & 0 & 0\\end{matrix}\\right]$"
      ],
      "text/plain": [
       "Matrix([\n",
       "[2, 4, 2, 2, 4, 1],\n",
       "[4, 2, 5, 1, 6, 2],\n",
       "[2, 5, 0, 5, 1, 0],\n",
       "[2, 1, 5, 0, 6, 3],\n",
       "[4, 6, 1, 6, 2, 0],\n",
       "[1, 2, 0, 3, 0, 0]])"
      ]
     },
     "execution_count": 108,
     "metadata": {},
     "output_type": "execute_result"
    }
   ],
   "source": [
    "A_3 = adjacency_M.pow(3)\n",
    "rank = A_3.trace()\n",
    "numero_de_triangulos_traco = rank/6\n",
    "print(f'Traço de A^3: {rank} Número de triângulos do grafo: {numero_de_triangulos_traco}')\n",
    "A_3\n"
   ]
  },
  {
   "cell_type": "markdown",
   "metadata": {},
   "source": [
    "### 2. b. Número de triângulos do grafo a partir dos autovalores:"
   ]
  },
  {
   "cell_type": "code",
   "execution_count": 109,
   "metadata": {},
   "outputs": [
    {
     "name": "stdout",
     "output_type": "stream",
     "text": [
      "Soma dos autovalores reais A^3: 6.0, Número de triângulos do grafo: 1.0\n"
     ]
    },
    {
     "data": {
      "text/latex": [
       "$\\displaystyle \\left[\\begin{matrix}2 & 4 & 2 & 2 & 4 & 1\\\\4 & 2 & 5 & 1 & 6 & 2\\\\2 & 5 & 0 & 5 & 1 & 0\\\\2 & 1 & 5 & 0 & 6 & 3\\\\4 & 6 & 1 & 6 & 2 & 0\\\\1 & 2 & 0 & 3 & 0 & 0\\end{matrix}\\right]$"
      ],
      "text/plain": [
       "Matrix([\n",
       "[2, 4, 2, 2, 4, 1],\n",
       "[4, 2, 5, 1, 6, 2],\n",
       "[2, 5, 0, 5, 1, 0],\n",
       "[2, 1, 5, 0, 6, 3],\n",
       "[4, 6, 1, 6, 2, 0],\n",
       "[1, 2, 0, 3, 0, 0]])"
      ]
     },
     "execution_count": 109,
     "metadata": {},
     "output_type": "execute_result"
    }
   ],
   "source": [
    "A_3 = adjacency_M.pow(3)\n",
    "# Encontrar os autovalores\n",
    "autovalores = A_3.eigenvals()\n",
    "\n",
    "# Somar os autovalores reais numericamente\n",
    "soma_dos_autovalores_reais = sum(valor.evalf(2) * multiplicidade for valor, multiplicidade in autovalores.items())\n",
    "numero_de_triangulos_autovalores = soma_dos_autovalores_reais/6\n",
    "\n",
    "print(f'Soma dos autovalores reais A^3: {soma_dos_autovalores_reais}, Número de triângulos do grafo: {numero_de_triangulos_autovalores}')\n",
    "A_3"
   ]
  },
  {
   "cell_type": "markdown",
   "metadata": {},
   "source": [
    "Se uma matriz $A$ é diagonalizável então existe $P$ tal que $D = P A P^{-1}$. E esta matriz $D$ é igual a:\n",
    "\n",
    "$$ D = \\begin{pmatrix} \\lambda_1 & 0 & 0 & \\cdots & 0 \\\\ 0 & \\lambda_2 & 0 & \\cdots & 0 \\\\ \\vdots & \\vdots & \\vdots & \\ddots & \\vdots \\\\ 0 & 0 & 0 & \\cdots & \\lambda_n \\end{pmatrix} $$\n",
    "\n",
    "Em que $ \\lambda_1, \\lambda_2, \\dots, \\lambda_n $ são os autovalores de de $A$. Além disso, sabe-se que o traço de matrizes semelhantes é o mesmo, portanto: \n",
    "\n",
    "$$ tr(A) = tr(P A P^{-1}) = tr(D) = \\sum_{i=1}^{n} \\lambda_i $$\n",
    "\n",
    "Mostrando que o traço de uma matriz é igual ao somatório dos autovalores.\n"
   ]
  },
  {
   "cell_type": "markdown",
   "metadata": {},
   "source": [
    "### 3. Funções que calculam o número de componentes conexos e o número de triângulos do grafo:"
   ]
  },
  {
   "cell_type": "code",
   "execution_count": 110,
   "metadata": {},
   "outputs": [],
   "source": [
    "def nr_connected_components(vertex, edge_list):\n",
    "    laplacian_M = laplacian(vertex, edge_list)\n",
    "    autovalores = laplacian_M.eigenvals()\n",
    "    componentes_conexos = autovalores.get(0, 'NULL')\n",
    "    return componentes_conexos\n",
    "\n",
    "def nr_triangles(vertex, edge_list):\n",
    "    adjacency_M = adjacency_matrix(vertex,edge_list)\n",
    "    A_3 = adjacency_M.pow(3)\n",
    "    rank = A_3.trace()\n",
    "    numero_de_triangulos = rank/6\n",
    "    return numero_de_triangulos"
   ]
  },
  {
   "cell_type": "code",
   "execution_count": 111,
   "metadata": {},
   "outputs": [
    {
     "name": "stdout",
     "output_type": "stream",
     "text": [
      "1\n",
      "1\n"
     ]
    }
   ],
   "source": [
    "edge_list = [(0,1),(0,4),(1,2),(1,4),(2,3),(3,4),(3,5)]\n",
    "vertex = len(edge_list) - 1\n",
    "\n",
    "cc = nr_connected_components(vertex, edge_list)\n",
    "print(cc)\n",
    "\n",
    "nt = nr_triangles(vertex, edge_list)\n",
    "print(nt)\n"
   ]
  },
  {
   "cell_type": "markdown",
   "metadata": {},
   "source": [
    "## Exercício 48.4"
   ]
  },
  {
   "cell_type": "code",
   "execution_count": 112,
   "metadata": {},
   "outputs": [],
   "source": [
    "import numpy as np"
   ]
  },
  {
   "cell_type": "markdown",
   "metadata": {},
   "source": [
    "### Função eigen_iter com parâmetro de número de interações:"
   ]
  },
  {
   "cell_type": "code",
   "execution_count": 113,
   "metadata": {},
   "outputs": [
    {
     "data": {
      "text/plain": [
       "array([0.37722842, 0.51868907, 0.35365164, 0.37722842, 0.54226585,\n",
       "       0.16503743])"
      ]
     },
     "execution_count": 113,
     "metadata": {},
     "output_type": "execute_result"
    }
   ],
   "source": [
    "def eigen_iter_nr_iter(m, v, nr_iter):\n",
    "    for i in range(nr_iter):\n",
    "        v = (m@v)/np.linalg.norm(m@v)\n",
    "    return v\n",
    "\n",
    "\n",
    "edge_list = [(0,1),(0,4),(1,2),(1,4),(2,3),(3,4),(3,5)]\n",
    "m = adjacency_matrix(vertex, edge_list)\n",
    "m = np.array(m, dtype = float)\n",
    "v = np.array([1,0,0,0,0,0])\n",
    "eigen_iter_nr_iter(m, v, 5)\n"
   ]
  },
  {
   "cell_type": "markdown",
   "metadata": {},
   "source": [
    "### Função eigen_eigen iter com parâmetro epsilon"
   ]
  },
  {
   "cell_type": "code",
   "execution_count": 114,
   "metadata": {},
   "outputs": [
    {
     "data": {
      "text/plain": [
       "array([0.41813906, 0.50176687, 0.3530952 , 0.41813906, 0.50176687,\n",
       "       0.14867166])"
      ]
     },
     "execution_count": 114,
     "metadata": {},
     "output_type": "execute_result"
    }
   ],
   "source": [
    "def eigen_iter_epsilon(m, v, epsilon):\n",
    "    v_aux = 0\n",
    "    while np.linalg.norm(v - v_aux) > epsilon:\n",
    "        v_aux = v\n",
    "        v = (m@v)/np.linalg.norm(m@v)\n",
    "    return v\n",
    "\n",
    "edge_list = [(0,1),(0,4),(1,2),(1,4),(2,3),(3,4),(3,5)]\n",
    "m = adjacency_matrix(vertex, edge_list)\n",
    "m = np.array(m, dtype = float)\n",
    "v = np.array([1,0,0,0,0,0])\n",
    "eigen_iter_epsilon(m, v, 0.1)"
   ]
  }
 ],
 "metadata": {
  "kernelspec": {
   "display_name": "Python 3",
   "language": "python",
   "name": "python3"
  },
  "language_info": {
   "codemirror_mode": {
    "name": "ipython",
    "version": 3
   },
   "file_extension": ".py",
   "mimetype": "text/x-python",
   "name": "python",
   "nbconvert_exporter": "python",
   "pygments_lexer": "ipython3",
   "version": "3.11.9"
  }
 },
 "nbformat": 4,
 "nbformat_minor": 2
}
