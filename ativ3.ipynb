{
 "cells": [
  {
   "cell_type": "markdown",
   "metadata": {},
   "source": [
    "# **Computações com Python III**"
   ]
  },
  {
   "cell_type": "code",
   "execution_count": 380,
   "metadata": {},
   "outputs": [],
   "source": [
    "from sympy import integrate, var, cos, sin, pi, Integral, plot\n",
    "x = var('x')\n",
    "t = var('t')"
   ]
  },
  {
   "cell_type": "markdown",
   "metadata": {},
   "source": [
    "### **O espaço de funções analíticas**"
   ]
  },
  {
   "cell_type": "markdown",
   "metadata": {},
   "source": [
    "**Exercício 54.1**"
   ]
  },
  {
   "cell_type": "code",
   "execution_count": 381,
   "metadata": {},
   "outputs": [],
   "source": [
    "## Função que retorna o produto interno entre duas funções:\n",
    "def inner_product(f, g, var, a, b):\n",
    "    inner_product = integrate(f*g, (var, a, b))\n",
    "    return inner_product"
   ]
  },
  {
   "cell_type": "code",
   "execution_count": 382,
   "metadata": {},
   "outputs": [
    {
     "name": "stdout",
     "output_type": "stream",
     "text": [
      "0\n",
      "2/3\n",
      "0\n",
      "pi\n"
     ]
    }
   ],
   "source": [
    "## Testes:\n",
    "print(inner_product( x, x**2, x, -1, 1 ))\n",
    "print(inner_product( 1, x**2, x, -1, 1 ))\n",
    "print(inner_product( cos(x), sin(x), x, -pi, pi))\n",
    "print(inner_product( cos(x), cos(x), x, -pi, pi))"
   ]
  },
  {
   "cell_type": "markdown",
   "metadata": {},
   "source": [
    "**Exercício 54.2**"
   ]
  },
  {
   "cell_type": "code",
   "execution_count": 383,
   "metadata": {},
   "outputs": [],
   "source": [
    "## Função que retorna a projeção ortogonal de uma função f sobre outra função g entre duas funções:\n",
    "def orthogonal_projection(f, g, var, a, b):\n",
    "    orthogonal_projection = (inner_product(f, g, var, a, b)/(inner_product(g, g, var, a, b)))*g\n",
    "    return orthogonal_projection"
   ]
  },
  {
   "cell_type": "code",
   "execution_count": 384,
   "metadata": {},
   "outputs": [
    {
     "name": "stdout",
     "output_type": "stream",
     "text": [
      "0\n",
      "5*x**2/3\n",
      "-4*cos(x)\n"
     ]
    }
   ],
   "source": [
    "## Testes: \n",
    "print(orthogonal_projection( x, x**2, x, -1, 1))\n",
    "print(orthogonal_projection( 1, x**2, x, -1, 1))\n",
    "print(orthogonal_projection( x**2, cos(x), x, -pi, pi))"
   ]
  },
  {
   "cell_type": "markdown",
   "metadata": {},
   "source": [
    "### **Ortogonalização de Gram-Schmidt**"
   ]
  },
  {
   "cell_type": "markdown",
   "metadata": {},
   "source": [
    "**Exercício 54.3**"
   ]
  },
  {
   "cell_type": "code",
   "execution_count": 385,
   "metadata": {},
   "outputs": [],
   "source": [
    "## Função aplica a ortogonalização de gram-schmidt a uma lista de funções:\n",
    "def gram_schmidt(funcs, var, a, b):\n",
    "    ws = []\n",
    "    for f in funcs:\n",
    "           ws.append(f - sum(orthogonal_projection(f, w, var, a, b) for w in ws)) ## Dica do Csaba\n",
    "    return ws"
   ]
  },
  {
   "cell_type": "code",
   "execution_count": 386,
   "metadata": {},
   "outputs": [
    {
     "name": "stdout",
     "output_type": "stream",
     "text": [
      "[1, x, x**2 - 1/3]\n",
      "[1, x - 1/2, x**2 - x + 1/6]\n",
      "[1, cos(x), sin(x)]\n"
     ]
    }
   ],
   "source": [
    "## Testes:\n",
    "print(gram_schmidt([1,x,x**2], x, -1, 1))\n",
    "print(gram_schmidt([1,x,x**2], x, 0, 1))\n",
    "print(gram_schmidt([1,cos(x),sin(x)], x, -pi, pi))"
   ]
  },
  {
   "cell_type": "markdown",
   "metadata": {},
   "source": [
    "**Exercício 54.4**"
   ]
  },
  {
   "cell_type": "code",
   "execution_count": 387,
   "metadata": {},
   "outputs": [
    {
     "name": "stdout",
     "output_type": "stream",
     "text": [
      "[1, x, x**2 - 1/3, x**3 - 3*x/5, x**4 - 6*x**2/7 + 3/35]\n",
      "Ortogonal\n",
      "Ortogonal\n",
      "Ortogonal\n",
      "Ortogonal\n",
      "Ortogonal\n",
      "Ortogonal\n",
      "Ortogonal\n",
      "Ortogonal\n",
      "Ortogonal\n",
      "Ortogonal\n",
      "[1, x - 1/2, x**2 - x + 1/6, x**3 - 3*x**2/2 + 3*x/5 - 1/20, x**4 - 2*x**3 + 9*x**2/7 - 2*x/7 + 1/70]\n",
      "Ortogonal\n",
      "Ortogonal\n",
      "Ortogonal\n",
      "Ortogonal\n",
      "Ortogonal\n",
      "Ortogonal\n",
      "Ortogonal\n",
      "Ortogonal\n",
      "Ortogonal\n",
      "Ortogonal\n"
     ]
    }
   ],
   "source": [
    "R4_list = [1, x, x**2, x**3, x**4]\n",
    "\n",
    "## Intervalo [-1,1]:\n",
    "orthogonal_span = gram_schmidt(R4_list, x, -1, 1)\n",
    "print(orthogonal_span)\n",
    "\n",
    "## Teste para ver se a lista é ortogonal:\n",
    "for fixed_f in orthogonal_span:\n",
    "    for dinamic_f in orthogonal_span:\n",
    "        if fixed_f == dinamic_f:\n",
    "            break\n",
    "        ip = inner_product( fixed_f, dinamic_f, x, -1, 1)\n",
    "        if ip == 0:\n",
    "            print(\"Ortogonal\")\n",
    "        else:\n",
    "            print(\"null\")\n",
    "\n",
    "## Intervalo [0,1]:\n",
    "orthogonal_span = gram_schmidt(R4_list, x, 0, 1)\n",
    "print(orthogonal_span)\n",
    "\n",
    "## Teste para ver se a lista é ortogonal:\n",
    "for fixed_f in orthogonal_span:\n",
    "    for dinamic_f in orthogonal_span:\n",
    "        if fixed_f == dinamic_f:\n",
    "            break\n",
    "        ip = inner_product( fixed_f, dinamic_f, x, 0, 1)\n",
    "        if ip == 0:\n",
    "            print(\"Ortogonal\")\n",
    "        else:\n",
    "            print(\"null\")"
   ]
  },
  {
   "cell_type": "markdown",
   "metadata": {},
   "source": [
    "### **As séries de Fourier**"
   ]
  },
  {
   "cell_type": "markdown",
   "metadata": {},
   "source": [
    "**Exercício 54.5**"
   ]
  },
  {
   "cell_type": "code",
   "execution_count": 388,
   "metadata": {},
   "outputs": [],
   "source": [
    "## Função que retorna o produto interno entre duas funções:\n",
    "def num_inner_product(f, g, var, a, b):\n",
    "    num_inner_product = Integral(f*g, (var, a, b)).evalf()\n",
    "    return num_inner_product\n",
    "\n",
    "## Função que retorna a projeção ortogonal de uma função f sobre outra função g entre duas funções:\n",
    "def num_orthogonal_projection(f, g, var, a, b):\n",
    "    num_orthogonal_projection = (num_inner_product(f, g, var, a, b)/(num_inner_product(g, g, var, a, b)))*g\n",
    "    return num_orthogonal_projection"
   ]
  },
  {
   "cell_type": "code",
   "execution_count": 389,
   "metadata": {},
   "outputs": [
    {
     "name": "stdout",
     "output_type": "stream",
     "text": [
      "inner_product: -sin(2)**2/2 + sin(1)**2/2\n",
      "num_inner_product: -0.0593741960791174\n"
     ]
    }
   ],
   "source": [
    "## Comparação entre inner_product e num_inner_product:\n",
    "print(f\"inner_product: {inner_product(cos(x), sin(x), x, -2, 1)}\")\n",
    "print(f\"num_inner_product: {num_inner_product(cos(x), sin(x), x, -2, 1)}\")"
   ]
  },
  {
   "cell_type": "markdown",
   "metadata": {},
   "source": [
    "**Exercício 54.6**"
   ]
  },
  {
   "cell_type": "code",
   "execution_count": 390,
   "metadata": {},
   "outputs": [],
   "source": [
    "## Função que dada função f calcula a aproximação de Fourier até o grau 5:\n",
    "def fourier(f):\n",
    "    f_t = 0\n",
    "    tolerance = 1e-5\n",
    "    for m in range(1, 6):\n",
    "        # Coeficientes para cosseno e seno\n",
    "        c_m = (1 / pi) * num_inner_product(f, cos(m * x), x, -pi, pi)\n",
    "        s_m = (1 / pi) * num_inner_product(f, sin(m * x), x, -pi, pi)\n",
    "        \n",
    "        c_m = 0 if abs(c_m) < tolerance else c_m\n",
    "        s_m = 0 if abs(s_m) < tolerance else s_m\n",
    "\n",
    "        # Soma os termos à série\n",
    "        f_t += c_m * cos(m * t) + s_m * sin(m * t)\n",
    "    \n",
    "    # Termo constante (a_0 / 2)\n",
    "    a_0 = (1 / (2 * pi)) * num_inner_product(f, 1, x, -pi, pi)\n",
    "    a_0 = 0 if abs(a_0) < tolerance else a_0\n",
    "    f_t += a_0\n",
    "    f_t = f_t.evalf()\n",
    "\n",
    "    return f_t"
   ]
  },
  {
   "cell_type": "code",
   "execution_count": 391,
   "metadata": {},
   "outputs": [
    {
     "name": "stdout",
     "output_type": "stream",
     "text": [
      "2.0*sin(t) - 1.0*sin(2*t) + 0.666666666666667*sin(3*t) - 0.5*sin(4*t) + 0.4*sin(5*t)\n",
      "-4.0*cos(t) + 1.0*cos(2*t) - 0.444444444444444*cos(3*t) + 0.25*cos(4*t) - 0.16*cos(5*t) + 3.28986813369645\n",
      "-1.27323954473516*cos(t) - 0.141475377880271*cos(3*t) - 0.0509343902425822*cos(5*t) + 1.57080022691234\n"
     ]
    }
   ],
   "source": [
    "##Testes: \n",
    "print(fourier(x))\n",
    "print(fourier(x**2))\n",
    "print(fourier(abs(x)))"
   ]
  },
  {
   "cell_type": "markdown",
   "metadata": {},
   "source": [
    "**Exercício 54.6**"
   ]
  },
  {
   "cell_type": "code",
   "execution_count": 392,
   "metadata": {},
   "outputs": [
    {
     "name": "stdout",
     "output_type": "stream",
     "text": [
      "     10 |\\                                                     /\n",
      "        | ..                                                 .. \n",
      "        |   \\                                               /   \n",
      "        |    \\                                             /    \n",
      "        |     ..                                         ..     \n",
      "        |       \\                                       /       \n",
      "        |        \\                                     /        \n",
      "        |         ..                                 ..         \n",
      "        |           \\                               /           \n",
      "        |            \\                             /            \n",
      "      5 |-------------..-------------------------..-------------\n",
      "        |               \\                       /               \n",
      "        |                \\                     /                \n",
      "        |                 ..                 ..                 \n",
      "        |                   \\               /                   \n",
      "        |                    \\             /                    \n",
      "        |                     ..         ..                     \n",
      "        |                       \\       /                       \n",
      "        |                        \\     /                        \n",
      "        |                         .. ..                         \n",
      "      0 |_______________________________________________________\n",
      "         -10                        0                          10\n",
      "      3 | ..               ..               ..               .. \n",
      "        |                                                       \n",
      "        |                                                       \n",
      "        |.  .             .  .             .  .             .  .\n",
      "        |                                                       \n",
      "        |    .                .           .                .    \n",
      "        |                .                     .                \n",
      "        |                                                       \n",
      "        |     .         .      .         .      .         .     \n",
      "        |                                                       \n",
      "   1.55 |------.-----------------------------------------.------\n",
      "        |              .        .       .        .              \n",
      "        |                                                       \n",
      "        |       .     .          .     .          .     .       \n",
      "        |                                                       \n",
      "        |        .                .   .                .        \n",
      "        |            .                             .            \n",
      "        |                                                       \n",
      "        |         . .              . .              . .         \n",
      "        |                                                       \n",
      "    0.1 |_______________________________________________________\n",
      "         -10                        0                          10\n"
     ]
    },
    {
     "data": {
      "text/plain": [
       "<sympy.plotting.backends.textbackend.text.TextBackend at 0x204cc9adc90>"
      ]
     },
     "execution_count": 392,
     "metadata": {},
     "output_type": "execute_result"
    }
   ],
   "source": [
    "f = abs(x)\n",
    "plot(f, xlim=(-3,3), ylim=(-1,4))\n",
    "\n",
    "ff = fourier(f)\n",
    "plot(ff, xlim=(-3,3), ylim=(-1,4))"
   ]
  }
 ],
 "metadata": {
  "kernelspec": {
   "display_name": "Python 3",
   "language": "python",
   "name": "python3"
  },
  "language_info": {
   "codemirror_mode": {
    "name": "ipython",
    "version": 3
   },
   "file_extension": ".py",
   "mimetype": "text/x-python",
   "name": "python",
   "nbconvert_exporter": "python",
   "pygments_lexer": "ipython3",
   "version": "3.11.9"
  }
 },
 "nbformat": 4,
 "nbformat_minor": 2
}
