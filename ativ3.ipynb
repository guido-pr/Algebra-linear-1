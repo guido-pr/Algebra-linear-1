{
 "cells": [
  {
   "cell_type": "markdown",
   "metadata": {},
   "source": [
    "# **Computações com Python III**"
   ]
  },
  {
   "cell_type": "code",
   "execution_count": 204,
   "metadata": {},
   "outputs": [],
   "source": [
    "from sympy import integrate, var, cos, sin, pi, Integral, plot\n",
    "x = var('x')"
   ]
  },
  {
   "cell_type": "markdown",
   "metadata": {},
   "source": [
    "### **O espaço de funções analíticas**"
   ]
  },
  {
   "cell_type": "markdown",
   "metadata": {},
   "source": [
    "**Exercício 54.1**"
   ]
  },
  {
   "cell_type": "code",
   "execution_count": 205,
   "metadata": {},
   "outputs": [],
   "source": [
    "## Função que retorna o produto interno entre duas funções:\n",
    "def inner_product(f, g, var, a, b):\n",
    "    inner_product = integrate(f*g, (var, a, b))\n",
    "    return inner_product"
   ]
  },
  {
   "cell_type": "code",
   "execution_count": 206,
   "metadata": {},
   "outputs": [
    {
     "name": "stdout",
     "output_type": "stream",
     "text": [
      "0\n",
      "2/3\n",
      "0\n",
      "pi\n"
     ]
    }
   ],
   "source": [
    "## Testes:\n",
    "print(inner_product( x, x**2, x, -1, 1 ))\n",
    "print(inner_product( 1, x**2, x, -1, 1 ))\n",
    "print(inner_product( cos(x), sin(x), x, -pi, pi))\n",
    "print(inner_product( cos(x), cos(x), x, -pi, pi))"
   ]
  },
  {
   "cell_type": "markdown",
   "metadata": {},
   "source": [
    "**Exercício 54.2**"
   ]
  },
  {
   "cell_type": "code",
   "execution_count": 207,
   "metadata": {},
   "outputs": [],
   "source": [
    "## Função que retorna a projeção ortogonal de uma função f sobre outra função g entre duas funções:\n",
    "def orthogonal_projection(f, g, var, a, b):\n",
    "    orthogonal_projection = (inner_product(f, g, var, a, b)/(inner_product(g, g, var, a, b)))*g\n",
    "    return orthogonal_projection"
   ]
  },
  {
   "cell_type": "code",
   "execution_count": 208,
   "metadata": {},
   "outputs": [
    {
     "name": "stdout",
     "output_type": "stream",
     "text": [
      "0\n",
      "5*x**2/3\n",
      "-4*cos(x)\n"
     ]
    }
   ],
   "source": [
    "## Testes: \n",
    "print(orthogonal_projection( x, x**2, x, -1, 1))\n",
    "print(orthogonal_projection( 1, x**2, x, -1, 1))\n",
    "print(orthogonal_projection( x**2, cos(x), x, -pi, pi))"
   ]
  },
  {
   "cell_type": "markdown",
   "metadata": {},
   "source": [
    "### **Ortogonalização de Gram-Schmidt**"
   ]
  },
  {
   "cell_type": "markdown",
   "metadata": {},
   "source": [
    "**Exercício 54.3**"
   ]
  },
  {
   "cell_type": "code",
   "execution_count": 209,
   "metadata": {},
   "outputs": [],
   "source": [
    "## Função aplica a ortogonalização de gram-schmidt a uma lista de funções:\n",
    "def gram_schmidt(funcs, var, a, b):\n",
    "    ws = []\n",
    "    for f in funcs:\n",
    "           ws.append(f - sum(orthogonal_projection(f, w, var, a, b) for w in ws)) ## Dica do Csaba\n",
    "    return ws"
   ]
  },
  {
   "cell_type": "code",
   "execution_count": 210,
   "metadata": {},
   "outputs": [
    {
     "name": "stdout",
     "output_type": "stream",
     "text": [
      "[1, x, x**2 - 1/3]\n",
      "[1, x - 1/2, x**2 - x + 1/6]\n",
      "[1, cos(x), sin(x)]\n"
     ]
    }
   ],
   "source": [
    "## Testes:\n",
    "print(gram_schmidt([1,x,x**2], x, -1, 1))\n",
    "print(gram_schmidt([1,x,x**2], x, 0, 1))\n",
    "print(gram_schmidt([1,cos(x),sin(x)], x, -pi, pi))"
   ]
  },
  {
   "cell_type": "markdown",
   "metadata": {},
   "source": [
    "**Exercício 54.4**"
   ]
  },
  {
   "cell_type": "code",
   "execution_count": 211,
   "metadata": {},
   "outputs": [
    {
     "name": "stdout",
     "output_type": "stream",
     "text": [
      "[1, x, x**2 - 1/3, x**3 - 3*x/5, x**4 - 6*x**2/7 + 3/35]\n",
      "Ortogonal\n",
      "Ortogonal\n",
      "Ortogonal\n",
      "Ortogonal\n",
      "Ortogonal\n",
      "Ortogonal\n",
      "Ortogonal\n",
      "Ortogonal\n",
      "Ortogonal\n",
      "Ortogonal\n",
      "[1, x - 1/2, x**2 - x + 1/6, x**3 - 3*x**2/2 + 3*x/5 - 1/20, x**4 - 2*x**3 + 9*x**2/7 - 2*x/7 + 1/70]\n",
      "Ortogonal\n",
      "Ortogonal\n",
      "Ortogonal\n",
      "Ortogonal\n",
      "Ortogonal\n",
      "Ortogonal\n",
      "Ortogonal\n",
      "Ortogonal\n",
      "Ortogonal\n",
      "Ortogonal\n"
     ]
    }
   ],
   "source": [
    "R4_list = [1, x, x**2, x**3, x**4]\n",
    "\n",
    "## Intervalo [-1,1]:\n",
    "orthogonal_span = gram_schmidt(R4_list, x, -1, 1)\n",
    "print(orthogonal_span)\n",
    "\n",
    "## Teste para ver se a lista é ortogonal:\n",
    "for fixed_f in orthogonal_span:\n",
    "    for dinamic_f in orthogonal_span:\n",
    "        if fixed_f == dinamic_f:\n",
    "            break\n",
    "        ip = inner_product( fixed_f, dinamic_f, x, -1, 1)\n",
    "        if ip == 0:\n",
    "            print(\"Ortogonal\")\n",
    "        else:\n",
    "            print(\"null\")\n",
    "\n",
    "## Intervalo [0,1]:\n",
    "orthogonal_span = gram_schmidt(R4_list, x, 0, 1)\n",
    "print(orthogonal_span)\n",
    "\n",
    "## Teste para ver se a lista é ortogonal:\n",
    "for fixed_f in orthogonal_span:\n",
    "    for dinamic_f in orthogonal_span:\n",
    "        if fixed_f == dinamic_f:\n",
    "            break\n",
    "        ip = inner_product( fixed_f, dinamic_f, x, 0, 1)\n",
    "        if ip == 0:\n",
    "            print(\"Ortogonal\")\n",
    "        else:\n",
    "            print(\"null\")"
   ]
  },
  {
   "cell_type": "markdown",
   "metadata": {},
   "source": [
    "### **As séries de Fourier**"
   ]
  },
  {
   "cell_type": "markdown",
   "metadata": {},
   "source": [
    "**Exercício 54.5**"
   ]
  },
  {
   "cell_type": "code",
   "execution_count": 212,
   "metadata": {},
   "outputs": [],
   "source": [
    "## Função que retorna o produto interno entre duas funções:\n",
    "def num_inner_product(f, g, var, a, b):\n",
    "    num_inner_product = Integral(f*g, (var, a, b)).evalf()\n",
    "    return num_inner_product\n",
    "\n",
    "## Função que retorna a projeção ortogonal de uma função f sobre outra função g entre duas funções:\n",
    "def num_orthogonal_projection(f, g, var, a, b):\n",
    "    num_orthogonal_projection = (num_inner_product(f, g, var, a, b)/(num_inner_product(g, g, var, a, b)))*g\n",
    "    return num_orthogonal_projection"
   ]
  },
  {
   "cell_type": "code",
   "execution_count": 213,
   "metadata": {},
   "outputs": [
    {
     "name": "stdout",
     "output_type": "stream",
     "text": [
      "inner_product: -sin(2)**2/2 + sin(1)**2/2\n",
      "num_inner_product: -0.0593741960791174\n"
     ]
    }
   ],
   "source": [
    "## Comparação entre inner_product e num_inner_product:\n",
    "print(f\"inner_product: {inner_product(cos(x), sin(x), x, -2, 1)}\")\n",
    "print(f\"num_inner_product: {num_inner_product(cos(x), sin(x), x, -2, 1)}\")\n"
   ]
  },
  {
   "cell_type": "code",
   "execution_count": null,
   "metadata": {},
   "outputs": [],
   "source": []
  }
 ],
 "metadata": {
  "kernelspec": {
   "display_name": "Python 3",
   "language": "python",
   "name": "python3"
  },
  "language_info": {
   "codemirror_mode": {
    "name": "ipython",
    "version": 3
   },
   "file_extension": ".py",
   "mimetype": "text/x-python",
   "name": "python",
   "nbconvert_exporter": "python",
   "pygments_lexer": "ipython3",
   "version": "3.11.9"
  }
 },
 "nbformat": 4,
 "nbformat_minor": 2
}
