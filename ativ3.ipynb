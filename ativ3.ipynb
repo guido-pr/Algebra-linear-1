{
 "cells": [
  {
   "cell_type": "markdown",
   "metadata": {},
   "source": [
    "# **Computações com Python III**"
   ]
  },
  {
   "cell_type": "code",
   "execution_count": 51,
   "metadata": {},
   "outputs": [],
   "source": [
    "from sympy import integrate, var, cos, sin, pi, Integral, plot, Abs, exp\n",
    "x = var('x')\n",
    "t = var('t')"
   ]
  },
  {
   "cell_type": "markdown",
   "metadata": {},
   "source": [
    "### **O espaço de funções analíticas**"
   ]
  },
  {
   "cell_type": "markdown",
   "metadata": {},
   "source": [
    "**Exercício 54.1**"
   ]
  },
  {
   "cell_type": "code",
   "execution_count": 52,
   "metadata": {},
   "outputs": [],
   "source": [
    "## Função que retorna o produto interno entre duas funções:\n",
    "def inner_product(f, g, var, a, b):\n",
    "    inner_product = integrate(f*g, (var, a, b))\n",
    "    return inner_product"
   ]
  },
  {
   "cell_type": "code",
   "execution_count": 53,
   "metadata": {},
   "outputs": [
    {
     "name": "stdout",
     "output_type": "stream",
     "text": [
      "0\n",
      "2/3\n",
      "0\n",
      "pi\n"
     ]
    }
   ],
   "source": [
    "## Testes:\n",
    "print(inner_product( x, x**2, x, -1, 1 ))\n",
    "print(inner_product( 1, x**2, x, -1, 1 ))\n",
    "print(inner_product( cos(x), sin(x), x, -pi, pi))\n",
    "print(inner_product( cos(x), cos(x), x, -pi, pi))"
   ]
  },
  {
   "cell_type": "markdown",
   "metadata": {},
   "source": [
    "**Exercício 54.2**"
   ]
  },
  {
   "cell_type": "code",
   "execution_count": 54,
   "metadata": {},
   "outputs": [],
   "source": [
    "## Função que retorna a projeção ortogonal de uma função f sobre outra função g entre duas funções:\n",
    "def orthogonal_projection(f, g, var, a, b):\n",
    "    orthogonal_projection = (inner_product(f, g, var, a, b)/(inner_product(g, g, var, a, b)))*g\n",
    "    return orthogonal_projection"
   ]
  },
  {
   "cell_type": "code",
   "execution_count": 55,
   "metadata": {},
   "outputs": [
    {
     "name": "stdout",
     "output_type": "stream",
     "text": [
      "0\n",
      "5*x**2/3\n",
      "-4*cos(x)\n"
     ]
    }
   ],
   "source": [
    "## Testes: \n",
    "print(orthogonal_projection( x, x**2, x, -1, 1))\n",
    "print(orthogonal_projection( 1, x**2, x, -1, 1))\n",
    "print(orthogonal_projection( x**2, cos(x), x, -pi, pi))"
   ]
  },
  {
   "cell_type": "markdown",
   "metadata": {},
   "source": [
    "### **Ortogonalização de Gram-Schmidt**"
   ]
  },
  {
   "cell_type": "markdown",
   "metadata": {},
   "source": [
    "**Exercício 54.3**"
   ]
  },
  {
   "cell_type": "code",
   "execution_count": 56,
   "metadata": {},
   "outputs": [],
   "source": [
    "## Função aplica a ortogonalização de gram-schmidt a uma lista de funções:\n",
    "def gram_schmidt(funcs, var, a, b):\n",
    "    ws = []\n",
    "    for f in funcs:\n",
    "           ws.append(f - sum(orthogonal_projection(f, w, var, a, b) for w in ws)) ## Dica do Csaba\n",
    "    return ws"
   ]
  },
  {
   "cell_type": "code",
   "execution_count": 57,
   "metadata": {},
   "outputs": [
    {
     "name": "stdout",
     "output_type": "stream",
     "text": [
      "[1, x, x**2 - 1/3]\n",
      "[1, x - 1/2, x**2 - x + 1/6]\n",
      "[1, cos(x), sin(x)]\n"
     ]
    }
   ],
   "source": [
    "## Testes:\n",
    "print(gram_schmidt([1,x,x**2], x, -1, 1))\n",
    "print(gram_schmidt([1,x,x**2], x, 0, 1))\n",
    "print(gram_schmidt([1,cos(x),sin(x)], x, -pi, pi))"
   ]
  },
  {
   "cell_type": "markdown",
   "metadata": {},
   "source": [
    "**Exercício 54.4**"
   ]
  },
  {
   "cell_type": "code",
   "execution_count": 58,
   "metadata": {},
   "outputs": [
    {
     "name": "stdout",
     "output_type": "stream",
     "text": [
      "[1, x, x**2 - 1/3, x**3 - 3*x/5, x**4 - 6*x**2/7 + 3/35]\n",
      "Ortogonal\n",
      "Ortogonal\n",
      "Ortogonal\n",
      "Ortogonal\n",
      "Ortogonal\n",
      "Ortogonal\n",
      "Ortogonal\n",
      "Ortogonal\n",
      "Ortogonal\n",
      "Ortogonal\n",
      "[1, x - 1/2, x**2 - x + 1/6, x**3 - 3*x**2/2 + 3*x/5 - 1/20, x**4 - 2*x**3 + 9*x**2/7 - 2*x/7 + 1/70]\n",
      "Ortogonal\n",
      "Ortogonal\n",
      "Ortogonal\n",
      "Ortogonal\n",
      "Ortogonal\n",
      "Ortogonal\n",
      "Ortogonal\n",
      "Ortogonal\n",
      "Ortogonal\n",
      "Ortogonal\n"
     ]
    }
   ],
   "source": [
    "R4_list = [1, x, x**2, x**3, x**4]\n",
    "\n",
    "## Intervalo [-1,1]:\n",
    "orthogonal_span = gram_schmidt(R4_list, x, -1, 1)\n",
    "print(orthogonal_span)\n",
    "\n",
    "## Teste para ver se a lista é ortogonal:\n",
    "for fixed_f in orthogonal_span:\n",
    "    for dinamic_f in orthogonal_span:\n",
    "        if fixed_f == dinamic_f:\n",
    "            break\n",
    "        ip = inner_product( fixed_f, dinamic_f, x, -1, 1)\n",
    "        if ip == 0:\n",
    "            print(\"Ortogonal\")\n",
    "        else:\n",
    "            print(\"null\")\n",
    "\n",
    "## Intervalo [0,1]:\n",
    "orthogonal_span = gram_schmidt(R4_list, x, 0, 1)\n",
    "print(orthogonal_span)\n",
    "\n",
    "## Teste para ver se a lista é ortogonal:\n",
    "for fixed_f in orthogonal_span:\n",
    "    for dinamic_f in orthogonal_span:\n",
    "        if fixed_f == dinamic_f:\n",
    "            break\n",
    "        ip = inner_product( fixed_f, dinamic_f, x, 0, 1)\n",
    "        if ip == 0:\n",
    "            print(\"Ortogonal\")\n",
    "        else:\n",
    "            print(\"null\")"
   ]
  },
  {
   "cell_type": "markdown",
   "metadata": {},
   "source": [
    "### **As séries de Fourier**"
   ]
  },
  {
   "cell_type": "markdown",
   "metadata": {},
   "source": [
    "**Exercício 54.5**"
   ]
  },
  {
   "cell_type": "code",
   "execution_count": 59,
   "metadata": {},
   "outputs": [],
   "source": [
    "## Função que retorna o produto interno entre duas funções:\n",
    "def num_inner_product(f, g, var, a, b):\n",
    "    num_inner_product = Integral(f*g, (var, a, b)).evalf()\n",
    "    return num_inner_product\n",
    "\n",
    "## Função que retorna a projeção ortogonal de uma função f sobre outra função g entre duas funções:\n",
    "def num_orthogonal_projection(f, g, var, a, b):\n",
    "    num_orthogonal_projection = (num_inner_product(f, g, var, a, b)/(num_inner_product(g, g, var, a, b)))*g\n",
    "    return num_orthogonal_projection"
   ]
  },
  {
   "cell_type": "code",
   "execution_count": 60,
   "metadata": {},
   "outputs": [
    {
     "name": "stdout",
     "output_type": "stream",
     "text": [
      "inner_product: -sin(2)**2/2 + sin(1)**2/2\n",
      "num_inner_product: -0.0593741960791174\n"
     ]
    }
   ],
   "source": [
    "## Comparação entre inner_product e num_inner_product:\n",
    "print(f\"inner_product: {inner_product(cos(x), sin(x), x, -2, 1)}\")\n",
    "print(f\"num_inner_product: {num_inner_product(cos(x), sin(x), x, -2, 1)}\")"
   ]
  },
  {
   "cell_type": "markdown",
   "metadata": {},
   "source": [
    "**Exercício 54.6**"
   ]
  },
  {
   "cell_type": "code",
   "execution_count": 61,
   "metadata": {},
   "outputs": [],
   "source": [
    "## Função que dada função f calcula a aproximação de Fourier até o grau 5:\n",
    "def fourier_drg_5(f):\n",
    "    f_t = 0\n",
    "    tolerance = 1e-5\n",
    "    for m in range(1, 6):\n",
    "        # Coeficientes para cosseno e seno\n",
    "        c_m = (1 / pi) * num_inner_product(f, cos(m * x), x, -pi, pi)\n",
    "        s_m = (1 / pi) * num_inner_product(f, sin(m * x), x, -pi, pi)\n",
    "        \n",
    "        c_m = 0 if abs(c_m) < tolerance else c_m\n",
    "        s_m = 0 if abs(s_m) < tolerance else s_m\n",
    "\n",
    "        # Soma os termos à série\n",
    "        f_t += c_m * cos(m * t) + s_m * sin(m * t)\n",
    "    \n",
    "    # Termo constante (a_0 / 2)\n",
    "    a_0 = (1 / (2 * pi)) * num_inner_product(f, 1, x, -pi, pi)\n",
    "    a_0 = 0 if abs(a_0) < tolerance else a_0\n",
    "    f_t += a_0\n",
    "    f_t = f_t.evalf()\n",
    "\n",
    "    return f_t"
   ]
  },
  {
   "cell_type": "code",
   "execution_count": 62,
   "metadata": {},
   "outputs": [
    {
     "name": "stdout",
     "output_type": "stream",
     "text": [
      "2.0*sin(t) - 1.0*sin(2*t) + 0.666666666666667*sin(3*t) - 0.5*sin(4*t) + 0.4*sin(5*t) + 1.77648528529575e-104*cos(t) - 1.77648528529575e-104*cos(2*t) + 8.88242642647873e-105*cos(3*t) - 3.55297057059149e-104*cos(4*t) - 1.77648528529575e-104*cos(5*t)\n",
      "-5.42140284819258e-109*sin(t) + 1.3878791291373e-106*sin(2*t) + 4.44121321323937e-105*sin(3*t) + 1.77648528529575e-104*sin(4*t) + 4.44121321323937e-105*sin(5*t) - 4.0*cos(t) + 1.0*cos(2*t) - 0.444444444444444*cos(3*t) + 0.25*cos(4*t) - 0.16*cos(5*t) + 3.28986813369645\n",
      "1.11030330330984e-105*sin(t) + 2.22060660661968e-105*sin(2*t) + 8.88242642647873e-105*sin(3*t) + 8.88242642647873e-105*sin(4*t) - 8.88242642647873e-105*sin(5*t) - 1.27323954473516*cos(t) - 4.92846766282387e-6*cos(2*t) - 0.141475377880271*cos(3*t) - 4.92861588741523e-6*cos(4*t) - 0.0509343902425822*cos(5*t) + 1.57080022691234\n"
     ]
    }
   ],
   "source": [
    "# Testes\n",
    "print(fourier_drg_5(x))\n",
    "print(fourier_drg_5(x**2))\n",
    "print(fourier_drg_5(abs(x)))"
   ]
  },
  {
   "cell_type": "markdown",
   "metadata": {},
   "source": [
    "**Exercício 54.7**"
   ]
  },
  {
   "cell_type": "code",
   "execution_count": 63,
   "metadata": {},
   "outputs": [
    {
     "name": "stdout",
     "output_type": "stream",
     "text": [
      "     10 |\\                                                     /\n",
      "        | ..                                                 .. \n",
      "        |   \\                                               /   \n",
      "        |    \\                                             /    \n",
      "        |     ..                                         ..     \n",
      "        |       \\                                       /       \n",
      "        |        \\                                     /        \n",
      "        |         ..                                 ..         \n",
      "        |           \\                               /           \n",
      "        |            \\                             /            \n",
      "      5 |-------------..-------------------------..-------------\n",
      "        |               \\                       /               \n",
      "        |                \\                     /                \n",
      "        |                 ..                 ..                 \n",
      "        |                   \\               /                   \n",
      "        |                    \\             /                    \n",
      "        |                     ..         ..                     \n",
      "        |                       \\       /                       \n",
      "        |                        \\     /                        \n",
      "        |                         .. ..                         \n",
      "      0 |_______________________________________________________\n",
      "         -10                        0                          10\n"
     ]
    },
    {
     "data": {
      "text/plain": [
       "<sympy.plotting.backends.textbackend.text.TextBackend at 0x151c8f50950>"
      ]
     },
     "execution_count": 63,
     "metadata": {},
     "output_type": "execute_result"
    }
   ],
   "source": [
    "f = abs(x)\n",
    "plot(f, xlim=(-3,3), ylim=(-1,4))"
   ]
  },
  {
   "cell_type": "code",
   "execution_count": 64,
   "metadata": {},
   "outputs": [],
   "source": [
    "def fourier(f, var, L, k):   \n",
    "    \n",
    "    a0 = (1/(2*L))*integrate(f, (var, -L, L))\n",
    "    fourier_series = a0 \n",
    "    \n",
    "    for n in range(1, k + 1):\n",
    "        an = (1/L)*integrate(f*cos((n*pi*var)/L), (var, -L, L))\n",
    "        bn = (1/L)*integrate(f*sin((n*pi*var)/L), (var, -L, L))\n",
    "        \n",
    "        fourier_series += an*cos((n*pi*var)/L) + bn*sin((n*pi*var)/L)\n",
    "    \n",
    "    return fourier_series "
   ]
  },
  {
   "cell_type": "code",
   "execution_count": 67,
   "metadata": {},
   "outputs": [
    {
     "name": "stdout",
     "output_type": "stream",
     "text": [
      "    3.4 |                                                     . \n",
      "        |                                                    /  \n",
      "        |                                                   /   \n",
      "        |                                               ....   .\n",
      "        |                                              /        \n",
      "        |                                         .....         \n",
      "        |                                     . ..              \n",
      "        |                                   .. .                \n",
      "        |                               ....                    \n",
      "        |                              /                        \n",
      "      0 |-------------------------.....-------------------------\n",
      "        |                        /                              \n",
      "        |                    ....                               \n",
      "        |                . ..                                   \n",
      "        |              .. .                                     \n",
      "        |         .....                                         \n",
      "        |        /                                              \n",
      "        |.   ....                                               \n",
      "        |   /                                                   \n",
      "        |  /                                                    \n",
      "   -3.4 |_______________________________________________________\n",
      "         -3                         0                          3\n",
      "    9.1 |\\                                                     /\n",
      "        | .                                                   . \n",
      "        |                                                       \n",
      "        |  .                                                 .  \n",
      "        |                                                       \n",
      "        |   .                                               .   \n",
      "        |    \\                                             /    \n",
      "        |     \\                                           /     \n",
      "        |      \\                                         /      \n",
      "        |       \\                                       /       \n",
      "   4.55 |--------\\-------------------------------------/--------\n",
      "        |         \\                                   /         \n",
      "        |          \\                                 /          \n",
      "        |           \\                               /           \n",
      "        |            \\                             /            \n",
      "        |             ..                         ..             \n",
      "        |               \\                       /               \n",
      "        |                ..                   ..                \n",
      "        |                  ..               ..                  \n",
      "        |                    ...         ...                    \n",
      "      0 |_______________________________________________________\n",
      "         -3                         0                          3\n",
      "     20 |                                                     . \n",
      "        |                                                      \\\n",
      "        |                                                    .  \n",
      "        |                                                       \n",
      "        |                                                       \n",
      "        |                                                   .   \n",
      "        |                                                       \n",
      "        |                                                       \n",
      "        |                                                ...    \n",
      "        |                                               .       \n",
      "      9 |-------------------------------------------------------\n",
      "        |                                              .        \n",
      "        |                                             /         \n",
      "        |                                          ...          \n",
      "        |                                         /             \n",
      "        |                                    .....              \n",
      "        |.                              ..  /                   \n",
      "        |    ..              ..   ......  ..                    \n",
      "        |   .  \\ ............  ...                              \n",
      "        |       .                                               \n",
      "     -2 |_______________________________________________________\n",
      "         -3                         0                          3\n"
     ]
    },
    {
     "data": {
      "text/plain": [
       "<sympy.plotting.backends.textbackend.text.TextBackend at 0x151c9519250>"
      ]
     },
     "execution_count": 67,
     "metadata": {},
     "output_type": "execute_result"
    }
   ],
   "source": [
    "# Testes:\n",
    "k = int(input(\"Digite o grau (k) para a aproximação de Fourier: \"))\n",
    "\n",
    "f1 = x\n",
    "f2 = x**2\n",
    "f3 = exp(x)\n",
    "\n",
    "fourier_seriesf1 = fourier(f1, x, pi, 10)\n",
    "fourier_seriesf2 = fourier(f2, x, pi, 10)\n",
    "fourier_seriesf3 = fourier(f3, x, pi, 10)\n",
    "\n",
    "plot(fourier_seriesf1, (x, -3, 3), ylim=(-1, 4), title=f'Série de Fourier de {f1} até o grau {k}')\n",
    "plot(fourier_seriesf2, (x, -3, 3), ylim=(-1, 4), title=f'Série de Fourier de {f2} até o grau {k}')\n",
    "plot(fourier_seriesf3, (x, -3, 3), ylim=(-1, 4), title=f'Série de Fourier de {f3} até o grau {k}')"
   ]
  },
  {
   "cell_type": "code",
   "execution_count": 66,
   "metadata": {},
   "outputs": [
    {
     "name": "stdout",
     "output_type": "stream",
     "text": [
      "     10 |                                                     ..\n",
      "        |                                                  ...  \n",
      "        |                                                ..     \n",
      "        |                                             ...       \n",
      "        |                                          ...          \n",
      "        |                                        ..             \n",
      "        |                                     ...               \n",
      "        |                                  ...                  \n",
      "        |                                ..                     \n",
      "        |                             ...                       \n",
      "      0 |--------------------------...--------------------------\n",
      "        |                       ...                             \n",
      "        |                     ..                                \n",
      "        |                  ...                                  \n",
      "        |               ...                                     \n",
      "        |             ..                                        \n",
      "        |          ...                                          \n",
      "        |       ...                                             \n",
      "        |     ..                                                \n",
      "        |  ...                                                  \n",
      "    -10 |_______________________________________________________\n",
      "         -10                        0                          10\n",
      "    100 |\\                                                     /\n",
      "        | .                                                   . \n",
      "        |                                                       \n",
      "        |  .                                                 .  \n",
      "        |   \\                                               /   \n",
      "        |    .                                             .    \n",
      "        |                                                       \n",
      "        |     .                                           .     \n",
      "        |      \\                                         /      \n",
      "        |       \\                                       /       \n",
      "     50 |--------\\-------------------------------------/--------\n",
      "        |         \\                                   /         \n",
      "        |          \\                                 /          \n",
      "        |           \\                               /           \n",
      "        |            \\                             /            \n",
      "        |             ..                         ..             \n",
      "        |               \\                       /               \n",
      "        |                ..                   ..                \n",
      "        |                  ..               ..                  \n",
      "        |                    ...         ...                    \n",
      "      0 |_______________________________________________________\n",
      "         -10                        0                          10\n",
      "  22000 |                                                      .\n",
      "        |                                                       \n",
      "        |                                                       \n",
      "        |                                                       \n",
      "        |                                                       \n",
      "        |                                                       \n",
      "        |                                                     . \n",
      "        |                                                       \n",
      "        |                                                       \n",
      "        |                                                       \n",
      "  11000 |----------------------------------------------------.--\n",
      "        |                                                       \n",
      "        |                                                       \n",
      "        |                                                   .   \n",
      "        |                                                       \n",
      "        |                                                  .    \n",
      "        |                                                       \n",
      "        |                                                 .     \n",
      "        |                                                /      \n",
      "        |                                             ...       \n",
      "      0 |_______________________________________________________\n",
      "         -10                        0                          10\n"
     ]
    },
    {
     "data": {
      "text/plain": [
       "<sympy.plotting.backends.textbackend.text.TextBackend at 0x151c8c1ef50>"
      ]
     },
     "execution_count": 66,
     "metadata": {},
     "output_type": "execute_result"
    }
   ],
   "source": [
    "# Gráficos\n",
    "f1 = x\n",
    "plot(f1, xlim=(-3,3), ylim=(-1,4))\n",
    "f2 = x**2\n",
    "plot(f2, xlim=(-3,3), ylim=(-1,4))\n",
    "f3 = exp(x)\n",
    "plot(f3, xlim=(-3,3), ylim=(-1,1)) "
   ]
  }
 ],
 "metadata": {
  "kernelspec": {
   "display_name": "Python 3",
   "language": "python",
   "name": "python3"
  },
  "language_info": {
   "codemirror_mode": {
    "name": "ipython",
    "version": 3
   },
   "file_extension": ".py",
   "mimetype": "text/x-python",
   "name": "python",
   "nbconvert_exporter": "python",
   "pygments_lexer": "ipython3",
   "version": "3.13.1"
  }
 },
 "nbformat": 4,
 "nbformat_minor": 2
}
