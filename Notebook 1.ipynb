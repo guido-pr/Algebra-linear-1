{
 "cells": [
  {
   "cell_type": "code",
   "execution_count": 77,
   "id": "b9ee5f5e",
   "metadata": {},
   "outputs": [],
   "source": [
    "from sympy import Matrix, zeros, linsolve, S"
   ]
  },
  {
   "cell_type": "markdown",
   "id": "9ac83e4f",
   "metadata": {},
   "source": [
    "## Problema 1: Escolher base de sistemas geradores\n",
    "\n",
    "Provamos na aula que todo sistema gerador de um espaço vetorial $V$ contem um subsistema que seja uma base de $V$. Considere o seguinte problema numérico. Seja $W_1$ o subespaço de $\\mathbb R^{12}$ gerado pelas linhas do seguinte matriz. \n",
    "\n",
    "$$\n",
    "M_1 = \\left[\\begin{array}{cccccccccccc}-1 & 0 & -2 & -2 & 0 & 1 & -2 & -2 & 2 & 0 & -1 & -2\\\\0 & 2 & 2 & 1 & -2 & 3 & 1 & 2 & -4 & 3 & 0 & 3\\\\1 & -1 & 2 & -1 & 1 & 2 & -1 & -1 & 2 & 2 & 2 & 0\\\\-3 & 2 & -6 & 0 & -2 & -3 & 0 & 0 & -2 & -4 & -5 & -2\\\\8 & -4 & 4 & 0 & 2 & 0 & 4 & 2 & 4 & 0 & 2 & 0\\\\2 & 1 & 0 & 0 & -2 & 2 & 2 & 2 & -2 & 1 & -2 & 1\\end{array}\\right]\n",
    "$$\n",
    "\n",
    "Vamos resolver as seguintes tarefas:\n",
    "\n",
    "- escolher uma coleção de linhas de $M_1$ que geram $W_1$;\n",
    "- achar uma base na forma escalonada reduzida para $W_1$;\n",
    "- calcular $\\dim W_1$. \n"
   ]
  },
  {
   "cell_type": "code",
   "execution_count": 2,
   "id": "9adf11f5",
   "metadata": {},
   "outputs": [],
   "source": [
    "# vamos definir a matriz M1 usando Matrix de SymPy\n",
    "# veja https://docs.sympy.org/latest/tutorials/intro-tutorial/matrices.html\n",
    "\n",
    "M1 = Matrix([[-1, 0, -2, -2, 0, 1, -2, -2, 2, 0, -1, -2], \n",
    "             [0, 2, 2, 1, -2, 3, 1, 2, -4, 3, 0, 3], \n",
    "             [1, -1, 2, -1, 1, 2, -1, -1, 2, 2, 2, 0], \n",
    "             [-3, 2, -6, 0, -2, -3, 0, 0, -2, -4, -5, -2], \n",
    "             [8, -4, 4, 0, 2, 0, 4, 2, 4, 0, 2, 0], \n",
    "             [2, 1, 0, 0, -2, 2, 2, 2, -2, 1, -2, 1]])"
   ]
  },
  {
   "cell_type": "markdown",
   "id": "c656f0bc",
   "metadata": {},
   "source": [
    "A estratégia que vamos usar é a seguinte. \n",
    "\n",
    "1. Iniciamos `bas_esc = []` e `ind_bas = []`\n",
    "2. Para toda linha `L` da matriz `M1` fazemos a seguinte computação. \n",
    "\n",
    "    1. Juntar a linha `L` à matriz `bas_esc`.\n",
    "    2. Computar a forma escalonada reduzida da matriz obtida no ponto A e chame esta matriz `bas_esc`. \n",
    "    3. Se a matriz `bas_esc` tem uma linha nula, então a linha `L` é linearmente dependente das linhas já processadas e ela não é necessária na base de $W_1$. Neste caso, deletamos a última linha nula da `bas_esc`.\n",
    "    4. Se a matriz `bas_esc` não tem linha nula, então a linha `L` é L.I. das linhas já processadas e ela precisa ser inserida na base de $W_1$. Neste caso, inserimos o índice de `L` na lista `ind_bas`.\n",
    "    \n",
    "Este procedimento está implementado na função seguinte."
   ]
  },
  {
   "cell_type": "code",
   "execution_count": 3,
   "id": "0d9bbfa9",
   "metadata": {},
   "outputs": [],
   "source": [
    "def ache_base( M ):\n",
    "    \n",
    "    # achar número de linhas e colunas em M\n",
    "    rows, cols = M.shape\n",
    "    \n",
    "    # a lista vai conter a base\n",
    "    # e a matriz que vai conter a forma esc reduzida\n",
    "    ind_bas, bas_esc = [], Matrix( [] )\n",
    "        \n",
    "    for i in range( rows ):\n",
    "        \n",
    "        # adicione a linha i de M a forma escalonada\n",
    "        bas_esc = bas_esc.row_insert( bas_esc.rows, M[i,:] )\n",
    "        \n",
    "        # faça escalonamento \n",
    "        bas_esc, _ = bas_esc.rref()\n",
    "        \n",
    "        # se a última linha é nula, pode deletar e \n",
    "        # neste case esta linha não está na base \n",
    "        if bas_esc.row(-1) == zeros( 1, cols ):\n",
    "            bas_esc.row_del( bas_esc.rows-1 )\n",
    "        else: \n",
    "            # se a última linha é não nula, adiciona índice i à base\n",
    "            ind_bas.append( i )\n",
    "    # devolva a forma escalonada e a base        \n",
    "    return bas_esc, ind_bas"
   ]
  },
  {
   "cell_type": "code",
   "execution_count": 4,
   "id": "bb6e1d9f",
   "metadata": {},
   "outputs": [
    {
     "data": {
      "text/plain": [
       "(Matrix([\n",
       " [1, 0, 0, 0,  -7/17,   5/17, 14/17, 11/17,  -4/17,  0, -10/17,  2/17],\n",
       " [0, 1, 0, 0, -20/17,  24/17,  6/17, 12/17, -26/17,  1, -14/17, 13/17],\n",
       " [0, 0, 1, 0,   5/34,  14/17, -5/17, -3/34,  -1/17,  1,  29/34,  9/17],\n",
       " [0, 0, 0, 1,   1/17, -25/17, 15/17, 13/17, -14/17, -1,  -1/17,  7/17]]),\n",
       " [0, 1, 2, 4])"
      ]
     },
     "execution_count": 4,
     "metadata": {},
     "output_type": "execute_result"
    }
   ],
   "source": [
    "ache_base( M1 )"
   ]
  },
  {
   "cell_type": "markdown",
   "id": "3498ca07",
   "metadata": {},
   "source": [
    "Obtemos que as linhas da matriz devolvida pela função no campo anterior formam uma base na forma escalonada reduzida para o espaço $W_1$. Além disso, as linhas indexadas por $0$, $1$, $2$, $4$ também formam uma base de $W_1$. Portanto $\\dim W_1=4$. "
   ]
  },
  {
   "cell_type": "markdown",
   "id": "d51beeac",
   "metadata": {},
   "source": [
    "## Comparar dois subespaços de $\\mathbb R^n$\n",
    "\n",
    "Assuma agora que $W_1$ é o subespaço de $\\mathbb R^{12}$ gerado pelas linhas da seguinte matriz:\n",
    "$$ \n",
    "M_2=\\left[\\begin{array}{cccccccccccc}3 & -5 & -24 & -19 & 0 & 2 & -9 & -14 & 24 & -10 & -17 & -24\\\\-2 & 1 & 2 & 1 & 0 & 1 & -1 & 0 & -2 & 2 & 2 & 2\\\\0 & 1 & 6 & 5 & 0 & -1 & 3 & 4 & -6 & 2 & 4 & 6\\\\-3 & 2 & 6 & 4 & 0 & 1 & 0 & 2 & -6 & 4 & 5 & 6\\\\-4 & 5 & 22 & 17 & 0 & -1 & 7 & 12 & -22 & 10 & 16 & 22\\\\-1 & -2 & 1 & 1 & -2 & 2 & 1 & 2 & -1 & -1 & -1 & 0\\end{array}\\right]\n",
    "$$\n",
    "\n",
    "Primeiro queremos saber se $W_1=W_2$. É fácil verificar que todo subespaço de $\\mathbb R^n$ possui base na forma escalonada reduzida e esta base é única. Portanto $W_1=W_2$ se e somente se as suas bases na forma escalonada reduzida são as mesmas. \n",
    "\n",
    "Vamos calcular a base escalondada reduzida usando o método `rref()` já disponível em SymPy.\n"
   ]
  },
  {
   "cell_type": "code",
   "execution_count": 5,
   "id": "f97b9bf8",
   "metadata": {},
   "outputs": [],
   "source": [
    "M2 = Matrix([[3, -5, -24, -19, 0, 2, -9, -14, 24, -10, -17, -24], \n",
    "             [-2, 1, 2, 1, 0, 1, -1, 0, -2, 2, 2, 2], \n",
    "             [0, 1, 6, 5, 0, -1, 3, 4, -6, 2, 4, 6], \n",
    "             [-3, 2, 6, 4, 0, 1, 0, 2, -6, 4, 5, 6], \n",
    "             [-4, 5, 22, 17, 0, -1, 7, 12, -22, 10, 16, 22], \n",
    "             [-1, -2, 1, 1, -2, 2, 1, 2, -1, -1, -1, 0]])"
   ]
  },
  {
   "cell_type": "code",
   "execution_count": 6,
   "id": "875a1858",
   "metadata": {},
   "outputs": [
    {
     "data": {
      "text/latex": [
       "$\\displaystyle \\left[\\begin{array}{cccccccccccc}1 & 0 & 0 & 0 & - \\frac{7}{17} & \\frac{5}{17} & \\frac{14}{17} & \\frac{11}{17} & - \\frac{4}{17} & 0 & - \\frac{10}{17} & \\frac{2}{17}\\\\0 & 1 & 0 & 0 & - \\frac{20}{17} & \\frac{24}{17} & \\frac{6}{17} & \\frac{12}{17} & - \\frac{26}{17} & 1 & - \\frac{14}{17} & \\frac{13}{17}\\\\0 & 0 & 1 & 0 & \\frac{5}{34} & \\frac{14}{17} & - \\frac{5}{17} & - \\frac{3}{34} & - \\frac{1}{17} & 1 & \\frac{29}{34} & \\frac{9}{17}\\\\0 & 0 & 0 & 1 & \\frac{1}{17} & - \\frac{25}{17} & \\frac{15}{17} & \\frac{13}{17} & - \\frac{14}{17} & -1 & - \\frac{1}{17} & \\frac{7}{17}\\\\0 & 0 & 0 & 0 & 0 & 0 & 0 & 0 & 0 & 0 & 0 & 0\\\\0 & 0 & 0 & 0 & 0 & 0 & 0 & 0 & 0 & 0 & 0 & 0\\end{array}\\right]$"
      ],
      "text/plain": [
       "Matrix([\n",
       "[1, 0, 0, 0,  -7/17,   5/17, 14/17, 11/17,  -4/17,  0, -10/17,  2/17],\n",
       "[0, 1, 0, 0, -20/17,  24/17,  6/17, 12/17, -26/17,  1, -14/17, 13/17],\n",
       "[0, 0, 1, 0,   5/34,  14/17, -5/17, -3/34,  -1/17,  1,  29/34,  9/17],\n",
       "[0, 0, 0, 1,   1/17, -25/17, 15/17, 13/17, -14/17, -1,  -1/17,  7/17],\n",
       "[0, 0, 0, 0,      0,      0,     0,     0,      0,  0,      0,     0],\n",
       "[0, 0, 0, 0,      0,      0,     0,     0,      0,  0,      0,     0]])"
      ]
     },
     "execution_count": 6,
     "metadata": {},
     "output_type": "execute_result"
    }
   ],
   "source": [
    "M1.rref()[0]"
   ]
  },
  {
   "cell_type": "code",
   "execution_count": 7,
   "id": "fcf5f8e5",
   "metadata": {},
   "outputs": [
    {
     "data": {
      "text/latex": [
       "$\\displaystyle \\left[\\begin{array}{cccccccccccc}1 & 0 & 0 & \\frac{4}{15} & \\frac{4}{15} & - \\frac{13}{15} & \\frac{4}{5} & \\frac{2}{5} & 0 & - \\frac{2}{5} & - \\frac{1}{15} & \\frac{2}{15}\\\\0 & 1 & 0 & - \\frac{1}{5} & \\frac{4}{5} & - \\frac{3}{5} & - \\frac{3}{5} & - \\frac{4}{5} & 0 & \\frac{4}{5} & \\frac{4}{5} & \\frac{2}{5}\\\\0 & 0 & 1 & \\frac{13}{15} & - \\frac{2}{15} & - \\frac{1}{15} & \\frac{3}{5} & \\frac{4}{5} & -1 & \\frac{1}{5} & \\frac{8}{15} & \\frac{14}{15}\\\\0 & 0 & 0 & 0 & 0 & 0 & 0 & 0 & 0 & 0 & 0 & 0\\\\0 & 0 & 0 & 0 & 0 & 0 & 0 & 0 & 0 & 0 & 0 & 0\\\\0 & 0 & 0 & 0 & 0 & 0 & 0 & 0 & 0 & 0 & 0 & 0\\end{array}\\right]$"
      ],
      "text/plain": [
       "Matrix([\n",
       "[1, 0, 0,  4/15,  4/15, -13/15,  4/5,  2/5,  0, -2/5, -1/15,  2/15],\n",
       "[0, 1, 0,  -1/5,   4/5,   -3/5, -3/5, -4/5,  0,  4/5,   4/5,   2/5],\n",
       "[0, 0, 1, 13/15, -2/15,  -1/15,  3/5,  4/5, -1,  1/5,  8/15, 14/15],\n",
       "[0, 0, 0,     0,     0,      0,    0,    0,  0,    0,     0,     0],\n",
       "[0, 0, 0,     0,     0,      0,    0,    0,  0,    0,     0,     0],\n",
       "[0, 0, 0,     0,     0,      0,    0,    0,  0,    0,     0,     0]])"
      ]
     },
     "execution_count": 7,
     "metadata": {},
     "output_type": "execute_result"
    }
   ],
   "source": [
    "M2.rref()[0]"
   ]
  },
  {
   "cell_type": "markdown",
   "id": "00c881da",
   "metadata": {},
   "source": [
    "Como as formas escalonadas reduzidas das duas matrizes são diferentes, temos que $W_1\\neq W_2$. Além disso, a computação anterior mostra também que $\\dim W_2=3$ enquanto $\\dim W_1=4$ (como já foi verificado)."
   ]
  },
  {
   "cell_type": "markdown",
   "id": "b81076c7",
   "metadata": {},
   "source": [
    "## Computar a soma \n",
    "\n",
    "Vamos calcular a soma dos espaços $W=W_1+W_2$. Como $W_i$ é gerado pelas linhas de $M_i$, temos que a soma vai ser gerado pela matriz $M$ que obtemos por colar $M_2$ abaixo de $M_1$. Para calcular a base de $W$, calculamos a forma escalonada reduzida de $M$."
   ]
  },
  {
   "cell_type": "code",
   "execution_count": 8,
   "id": "2f01a075",
   "metadata": {},
   "outputs": [
    {
     "data": {
      "text/latex": [
       "$\\displaystyle \\left[\\begin{array}{cccccccccccc}-1 & 0 & -2 & -2 & 0 & 1 & -2 & -2 & 2 & 0 & -1 & -2\\\\0 & 2 & 2 & 1 & -2 & 3 & 1 & 2 & -4 & 3 & 0 & 3\\\\1 & -1 & 2 & -1 & 1 & 2 & -1 & -1 & 2 & 2 & 2 & 0\\\\-3 & 2 & -6 & 0 & -2 & -3 & 0 & 0 & -2 & -4 & -5 & -2\\\\8 & -4 & 4 & 0 & 2 & 0 & 4 & 2 & 4 & 0 & 2 & 0\\\\2 & 1 & 0 & 0 & -2 & 2 & 2 & 2 & -2 & 1 & -2 & 1\\\\3 & -5 & -24 & -19 & 0 & 2 & -9 & -14 & 24 & -10 & -17 & -24\\\\-2 & 1 & 2 & 1 & 0 & 1 & -1 & 0 & -2 & 2 & 2 & 2\\\\0 & 1 & 6 & 5 & 0 & -1 & 3 & 4 & -6 & 2 & 4 & 6\\\\-3 & 2 & 6 & 4 & 0 & 1 & 0 & 2 & -6 & 4 & 5 & 6\\\\-4 & 5 & 22 & 17 & 0 & -1 & 7 & 12 & -22 & 10 & 16 & 22\\\\-1 & -2 & 1 & 1 & -2 & 2 & 1 & 2 & -1 & -1 & -1 & 0\\end{array}\\right]$"
      ],
      "text/plain": [
       "Matrix([\n",
       "[-1,  0,  -2,  -2,  0,  1, -2,  -2,   2,   0,  -1,  -2],\n",
       "[ 0,  2,   2,   1, -2,  3,  1,   2,  -4,   3,   0,   3],\n",
       "[ 1, -1,   2,  -1,  1,  2, -1,  -1,   2,   2,   2,   0],\n",
       "[-3,  2,  -6,   0, -2, -3,  0,   0,  -2,  -4,  -5,  -2],\n",
       "[ 8, -4,   4,   0,  2,  0,  4,   2,   4,   0,   2,   0],\n",
       "[ 2,  1,   0,   0, -2,  2,  2,   2,  -2,   1,  -2,   1],\n",
       "[ 3, -5, -24, -19,  0,  2, -9, -14,  24, -10, -17, -24],\n",
       "[-2,  1,   2,   1,  0,  1, -1,   0,  -2,   2,   2,   2],\n",
       "[ 0,  1,   6,   5,  0, -1,  3,   4,  -6,   2,   4,   6],\n",
       "[-3,  2,   6,   4,  0,  1,  0,   2,  -6,   4,   5,   6],\n",
       "[-4,  5,  22,  17,  0, -1,  7,  12, -22,  10,  16,  22],\n",
       "[-1, -2,   1,   1, -2,  2,  1,   2,  -1,  -1,  -1,   0]])"
      ]
     },
     "execution_count": 8,
     "metadata": {},
     "output_type": "execute_result"
    }
   ],
   "source": [
    "M = M1.col_join( M2 )\n",
    "M"
   ]
  },
  {
   "cell_type": "code",
   "execution_count": 9,
   "id": "6538d406",
   "metadata": {},
   "outputs": [
    {
     "data": {
      "text/latex": [
       "$\\displaystyle \\left[\\begin{array}{cccccccccccc}1 & 0 & 0 & 0 & 0 & - \\frac{31}{169} & \\frac{112}{169} & \\frac{62}{169} & \\frac{8}{169} & - \\frac{14}{169} & - \\frac{43}{169} & \\frac{10}{169}\\\\0 & 1 & 0 & 0 & 0 & \\frac{8}{169} & - \\frac{18}{169} & - \\frac{16}{169} & - \\frac{122}{169} & \\frac{129}{169} & \\frac{22}{169} & \\frac{101}{169}\\\\0 & 0 & 1 & 0 & 0 & \\frac{168}{169} & - \\frac{40}{169} & \\frac{2}{169} & - \\frac{27}{169} & \\frac{174}{169} & \\frac{124}{169} & \\frac{93}{169}\\\\0 & 0 & 0 & 1 & 0 & - \\frac{237}{169} & \\frac{153}{169} & \\frac{136}{169} & - \\frac{146}{169} & - \\frac{167}{169} & - \\frac{18}{169} & \\frac{71}{169}\\\\0 & 0 & 0 & 0 & 1 & - \\frac{196}{169} & - \\frac{66}{169} & - \\frac{115}{169} & \\frac{116}{169} & - \\frac{34}{169} & \\frac{137}{169} & - \\frac{24}{169}\\\\0 & 0 & 0 & 0 & 0 & 0 & 0 & 0 & 0 & 0 & 0 & 0\\\\0 & 0 & 0 & 0 & 0 & 0 & 0 & 0 & 0 & 0 & 0 & 0\\\\0 & 0 & 0 & 0 & 0 & 0 & 0 & 0 & 0 & 0 & 0 & 0\\\\0 & 0 & 0 & 0 & 0 & 0 & 0 & 0 & 0 & 0 & 0 & 0\\\\0 & 0 & 0 & 0 & 0 & 0 & 0 & 0 & 0 & 0 & 0 & 0\\\\0 & 0 & 0 & 0 & 0 & 0 & 0 & 0 & 0 & 0 & 0 & 0\\\\0 & 0 & 0 & 0 & 0 & 0 & 0 & 0 & 0 & 0 & 0 & 0\\end{array}\\right]$"
      ],
      "text/plain": [
       "Matrix([\n",
       "[1, 0, 0, 0, 0,  -31/169, 112/169,   62/169,    8/169,  -14/169, -43/169,  10/169],\n",
       "[0, 1, 0, 0, 0,    8/169, -18/169,  -16/169, -122/169,  129/169,  22/169, 101/169],\n",
       "[0, 0, 1, 0, 0,  168/169, -40/169,    2/169,  -27/169,  174/169, 124/169,  93/169],\n",
       "[0, 0, 0, 1, 0, -237/169, 153/169,  136/169, -146/169, -167/169, -18/169,  71/169],\n",
       "[0, 0, 0, 0, 1, -196/169, -66/169, -115/169,  116/169,  -34/169, 137/169, -24/169],\n",
       "[0, 0, 0, 0, 0,        0,       0,        0,        0,        0,       0,       0],\n",
       "[0, 0, 0, 0, 0,        0,       0,        0,        0,        0,       0,       0],\n",
       "[0, 0, 0, 0, 0,        0,       0,        0,        0,        0,       0,       0],\n",
       "[0, 0, 0, 0, 0,        0,       0,        0,        0,        0,       0,       0],\n",
       "[0, 0, 0, 0, 0,        0,       0,        0,        0,        0,       0,       0],\n",
       "[0, 0, 0, 0, 0,        0,       0,        0,        0,        0,       0,       0],\n",
       "[0, 0, 0, 0, 0,        0,       0,        0,        0,        0,       0,       0]])"
      ]
     },
     "execution_count": 9,
     "metadata": {},
     "output_type": "execute_result"
    }
   ],
   "source": [
    "M.rref()[0]"
   ]
  },
  {
   "cell_type": "markdown",
   "id": "624959a4",
   "metadata": {},
   "source": [
    "Obtemos que a forma escalonda reduzida de $M$ contém $5$ linhas não nulas. Portanto \n",
    "$$\n",
    "\\dim W=\\dim (W_1+W_2)=5.\n",
    "$$\n",
    "Isso implica também que \n",
    "$$\n",
    "\\dim (W_1\\cap W_2) = \\dim W_1+\\dim W_2-\\dim (W_1+W_2)=4+3-5=2.\n",
    "$$"
   ]
  },
  {
   "cell_type": "markdown",
   "id": "9d4301ee",
   "metadata": {},
   "source": [
    "## Determinar a base da interseção\n",
    "\n",
    "Vamos usar o [Algoritmo de Zassenhaus](https://en.wikipedia.org/wiki/Zassenhaus_algorithm). Vamos montar a matriz em blocos da forma seguinte:\n",
    "$$\n",
    "X=\\begin{bmatrix} M_1& M_1\\\\ M_2 & 0 \\end{bmatrix}\n",
    "$$\n",
    "onde $0$ significa uma matriz nula do tamanho certo. Ao calcular, a forma escalonada reduzida de $X$, obtemos uma matriz em blocos \n",
    "$$\n",
    "\\begin{bmatrix} C_1 & C_2\\\\ 0 & C_3 \\\\ 0 & 0 \\end{bmatrix}.\n",
    "$$\n",
    "A parte $C_1$ contém uma base para $W_1+W_2$ enquanto a parte $C_3$ contém uma base de $W_1\\cap W_2$.\n"
   ]
  },
  {
   "cell_type": "code",
   "execution_count": 10,
   "id": "2697d9ee",
   "metadata": {},
   "outputs": [
    {
     "data": {
      "text/latex": [
       "$\\displaystyle \\left[\\begin{array}{cccccccccccccccccccccccc}-1 & 0 & -2 & -2 & 0 & 1 & -2 & -2 & 2 & 0 & -1 & -2 & -1 & 0 & -2 & -2 & 0 & 1 & -2 & -2 & 2 & 0 & -1 & -2\\\\0 & 2 & 2 & 1 & -2 & 3 & 1 & 2 & -4 & 3 & 0 & 3 & 0 & 2 & 2 & 1 & -2 & 3 & 1 & 2 & -4 & 3 & 0 & 3\\\\1 & -1 & 2 & -1 & 1 & 2 & -1 & -1 & 2 & 2 & 2 & 0 & 1 & -1 & 2 & -1 & 1 & 2 & -1 & -1 & 2 & 2 & 2 & 0\\\\-3 & 2 & -6 & 0 & -2 & -3 & 0 & 0 & -2 & -4 & -5 & -2 & -3 & 2 & -6 & 0 & -2 & -3 & 0 & 0 & -2 & -4 & -5 & -2\\\\8 & -4 & 4 & 0 & 2 & 0 & 4 & 2 & 4 & 0 & 2 & 0 & 8 & -4 & 4 & 0 & 2 & 0 & 4 & 2 & 4 & 0 & 2 & 0\\\\2 & 1 & 0 & 0 & -2 & 2 & 2 & 2 & -2 & 1 & -2 & 1 & 2 & 1 & 0 & 0 & -2 & 2 & 2 & 2 & -2 & 1 & -2 & 1\\\\3 & -5 & -24 & -19 & 0 & 2 & -9 & -14 & 24 & -10 & -17 & -24 & 0 & 0 & 0 & 0 & 0 & 0 & 0 & 0 & 0 & 0 & 0 & 0\\\\-2 & 1 & 2 & 1 & 0 & 1 & -1 & 0 & -2 & 2 & 2 & 2 & 0 & 0 & 0 & 0 & 0 & 0 & 0 & 0 & 0 & 0 & 0 & 0\\\\0 & 1 & 6 & 5 & 0 & -1 & 3 & 4 & -6 & 2 & 4 & 6 & 0 & 0 & 0 & 0 & 0 & 0 & 0 & 0 & 0 & 0 & 0 & 0\\\\-3 & 2 & 6 & 4 & 0 & 1 & 0 & 2 & -6 & 4 & 5 & 6 & 0 & 0 & 0 & 0 & 0 & 0 & 0 & 0 & 0 & 0 & 0 & 0\\\\-4 & 5 & 22 & 17 & 0 & -1 & 7 & 12 & -22 & 10 & 16 & 22 & 0 & 0 & 0 & 0 & 0 & 0 & 0 & 0 & 0 & 0 & 0 & 0\\\\-1 & -2 & 1 & 1 & -2 & 2 & 1 & 2 & -1 & -1 & -1 & 0 & 0 & 0 & 0 & 0 & 0 & 0 & 0 & 0 & 0 & 0 & 0 & 0\\end{array}\\right]$"
      ],
      "text/plain": [
       "Matrix([\n",
       "[-1,  0,  -2,  -2,  0,  1, -2,  -2,   2,   0,  -1,  -2, -1,  0, -2, -2,  0,  1, -2, -2,  2,  0, -1, -2],\n",
       "[ 0,  2,   2,   1, -2,  3,  1,   2,  -4,   3,   0,   3,  0,  2,  2,  1, -2,  3,  1,  2, -4,  3,  0,  3],\n",
       "[ 1, -1,   2,  -1,  1,  2, -1,  -1,   2,   2,   2,   0,  1, -1,  2, -1,  1,  2, -1, -1,  2,  2,  2,  0],\n",
       "[-3,  2,  -6,   0, -2, -3,  0,   0,  -2,  -4,  -5,  -2, -3,  2, -6,  0, -2, -3,  0,  0, -2, -4, -5, -2],\n",
       "[ 8, -4,   4,   0,  2,  0,  4,   2,   4,   0,   2,   0,  8, -4,  4,  0,  2,  0,  4,  2,  4,  0,  2,  0],\n",
       "[ 2,  1,   0,   0, -2,  2,  2,   2,  -2,   1,  -2,   1,  2,  1,  0,  0, -2,  2,  2,  2, -2,  1, -2,  1],\n",
       "[ 3, -5, -24, -19,  0,  2, -9, -14,  24, -10, -17, -24,  0,  0,  0,  0,  0,  0,  0,  0,  0,  0,  0,  0],\n",
       "[-2,  1,   2,   1,  0,  1, -1,   0,  -2,   2,   2,   2,  0,  0,  0,  0,  0,  0,  0,  0,  0,  0,  0,  0],\n",
       "[ 0,  1,   6,   5,  0, -1,  3,   4,  -6,   2,   4,   6,  0,  0,  0,  0,  0,  0,  0,  0,  0,  0,  0,  0],\n",
       "[-3,  2,   6,   4,  0,  1,  0,   2,  -6,   4,   5,   6,  0,  0,  0,  0,  0,  0,  0,  0,  0,  0,  0,  0],\n",
       "[-4,  5,  22,  17,  0, -1,  7,  12, -22,  10,  16,  22,  0,  0,  0,  0,  0,  0,  0,  0,  0,  0,  0,  0],\n",
       "[-1, -2,   1,   1, -2,  2,  1,   2,  -1,  -1,  -1,   0,  0,  0,  0,  0,  0,  0,  0,  0,  0,  0,  0,  0]])"
      ]
     },
     "execution_count": 10,
     "metadata": {},
     "output_type": "execute_result"
    }
   ],
   "source": [
    "X1 = M1.row_join( M1 )\n",
    "X2 = M2.row_join( zeros( M2.rows, M1.cols ))\n",
    "X = X1.col_join( X2 )\n",
    "X"
   ]
  },
  {
   "cell_type": "code",
   "execution_count": 11,
   "id": "c87050af",
   "metadata": {},
   "outputs": [
    {
     "data": {
      "text/latex": [
       "$\\displaystyle \\left[\\begin{array}{cccccccccccccccccccccccc}1 & 0 & 0 & 0 & 0 & - \\frac{31}{169} & \\frac{112}{169} & \\frac{62}{169} & \\frac{8}{169} & - \\frac{14}{169} & - \\frac{43}{169} & \\frac{10}{169} & 0 & 0 & - \\frac{128}{169} & - \\frac{12}{13} & - \\frac{28}{169} & \\frac{124}{169} & - \\frac{100}{169} & - \\frac{108}{169} & \\frac{136}{169} & \\frac{28}{169} & - \\frac{100}{169} & - \\frac{132}{169}\\\\0 & 1 & 0 & 0 & 0 & \\frac{8}{169} & - \\frac{18}{169} & - \\frac{16}{169} & - \\frac{122}{169} & \\frac{129}{169} & \\frac{22}{169} & \\frac{101}{169} & 0 & 0 & - \\frac{414}{169} & - \\frac{25}{13} & - \\frac{80}{169} & \\frac{137}{169} & - \\frac{165}{169} & - \\frac{212}{169} & \\frac{292}{169} & - \\frac{89}{169} & - \\frac{334}{169} & - \\frac{353}{169}\\\\0 & 0 & 1 & 0 & 0 & \\frac{168}{169} & - \\frac{40}{169} & \\frac{2}{169} & - \\frac{27}{169} & \\frac{174}{169} & \\frac{124}{169} & \\frac{93}{169} & 0 & 0 & \\frac{94}{169} & - \\frac{5}{13} & \\frac{10}{169} & \\frac{173}{169} & - \\frac{85}{169} & - \\frac{58}{169} & \\frac{48}{169} & \\frac{159}{169} & \\frac{84}{169} & \\frac{23}{169}\\\\0 & 0 & 0 & 1 & 0 & - \\frac{237}{169} & \\frac{153}{169} & \\frac{136}{169} & - \\frac{146}{169} & - \\frac{167}{169} & - \\frac{18}{169} & \\frac{71}{169} & 0 & 0 & - \\frac{30}{169} & \\frac{11}{13} & \\frac{4}{169} & - \\frac{235}{169} & \\frac{135}{169} & \\frac{112}{169} & - \\frac{116}{169} & - \\frac{173}{169} & - \\frac{34}{169} & \\frac{43}{169}\\\\0 & 0 & 0 & 0 & 1 & - \\frac{196}{169} & - \\frac{66}{169} & - \\frac{115}{169} & \\frac{116}{169} & - \\frac{34}{169} & \\frac{137}{169} & - \\frac{24}{169} & 0 & 0 & \\frac{510}{169} & \\frac{34}{13} & \\frac{101}{169} & - \\frac{230}{169} & \\frac{240}{169} & \\frac{293}{169} & - \\frac{394}{169} & \\frac{68}{169} & \\frac{409}{169} & \\frac{452}{169}\\\\0 & 0 & 0 & 0 & 0 & 0 & 0 & 0 & 0 & 0 & 0 & 0 & 1 & 0 & 2 & 2 & 0 & -1 & 2 & 2 & -2 & 0 & 1 & 2\\\\0 & 0 & 0 & 0 & 0 & 0 & 0 & 0 & 0 & 0 & 0 & 0 & 0 & 1 & 6 & 5 & 0 & -1 & 3 & 4 & -6 & 2 & 4 & 6\\\\0 & 0 & 0 & 0 & 0 & 0 & 0 & 0 & 0 & 0 & 0 & 0 & 0 & 0 & 0 & 0 & 0 & 0 & 0 & 0 & 0 & 0 & 0 & 0\\\\0 & 0 & 0 & 0 & 0 & 0 & 0 & 0 & 0 & 0 & 0 & 0 & 0 & 0 & 0 & 0 & 0 & 0 & 0 & 0 & 0 & 0 & 0 & 0\\\\0 & 0 & 0 & 0 & 0 & 0 & 0 & 0 & 0 & 0 & 0 & 0 & 0 & 0 & 0 & 0 & 0 & 0 & 0 & 0 & 0 & 0 & 0 & 0\\\\0 & 0 & 0 & 0 & 0 & 0 & 0 & 0 & 0 & 0 & 0 & 0 & 0 & 0 & 0 & 0 & 0 & 0 & 0 & 0 & 0 & 0 & 0 & 0\\\\0 & 0 & 0 & 0 & 0 & 0 & 0 & 0 & 0 & 0 & 0 & 0 & 0 & 0 & 0 & 0 & 0 & 0 & 0 & 0 & 0 & 0 & 0 & 0\\end{array}\\right]$"
      ],
      "text/plain": [
       "Matrix([\n",
       "[1, 0, 0, 0, 0,  -31/169, 112/169,   62/169,    8/169,  -14/169, -43/169,  10/169, 0, 0, -128/169, -12/13, -28/169,  124/169, -100/169, -108/169,  136/169,   28/169, -100/169, -132/169],\n",
       "[0, 1, 0, 0, 0,    8/169, -18/169,  -16/169, -122/169,  129/169,  22/169, 101/169, 0, 0, -414/169, -25/13, -80/169,  137/169, -165/169, -212/169,  292/169,  -89/169, -334/169, -353/169],\n",
       "[0, 0, 1, 0, 0,  168/169, -40/169,    2/169,  -27/169,  174/169, 124/169,  93/169, 0, 0,   94/169,  -5/13,  10/169,  173/169,  -85/169,  -58/169,   48/169,  159/169,   84/169,   23/169],\n",
       "[0, 0, 0, 1, 0, -237/169, 153/169,  136/169, -146/169, -167/169, -18/169,  71/169, 0, 0,  -30/169,  11/13,   4/169, -235/169,  135/169,  112/169, -116/169, -173/169,  -34/169,   43/169],\n",
       "[0, 0, 0, 0, 1, -196/169, -66/169, -115/169,  116/169,  -34/169, 137/169, -24/169, 0, 0,  510/169,  34/13, 101/169, -230/169,  240/169,  293/169, -394/169,   68/169,  409/169,  452/169],\n",
       "[0, 0, 0, 0, 0,        0,       0,        0,        0,        0,       0,       0, 1, 0,        2,      2,       0,       -1,        2,        2,       -2,        0,        1,        2],\n",
       "[0, 0, 0, 0, 0,        0,       0,        0,        0,        0,       0,       0, 0, 1,        6,      5,       0,       -1,        3,        4,       -6,        2,        4,        6],\n",
       "[0, 0, 0, 0, 0,        0,       0,        0,        0,        0,       0,       0, 0, 0,        0,      0,       0,        0,        0,        0,        0,        0,        0,        0],\n",
       "[0, 0, 0, 0, 0,        0,       0,        0,        0,        0,       0,       0, 0, 0,        0,      0,       0,        0,        0,        0,        0,        0,        0,        0],\n",
       "[0, 0, 0, 0, 0,        0,       0,        0,        0,        0,       0,       0, 0, 0,        0,      0,       0,        0,        0,        0,        0,        0,        0,        0],\n",
       "[0, 0, 0, 0, 0,        0,       0,        0,        0,        0,       0,       0, 0, 0,        0,      0,       0,        0,        0,        0,        0,        0,        0,        0],\n",
       "[0, 0, 0, 0, 0,        0,       0,        0,        0,        0,       0,       0, 0, 0,        0,      0,       0,        0,        0,        0,        0,        0,        0,        0]])"
      ]
     },
     "execution_count": 11,
     "metadata": {},
     "output_type": "execute_result"
    }
   ],
   "source": [
    "X0, _ = X.rref()\n",
    "X0"
   ]
  },
  {
   "cell_type": "code",
   "execution_count": 12,
   "id": "cedce8f4",
   "metadata": {},
   "outputs": [
    {
     "data": {
      "text/latex": [
       "$\\displaystyle \\left[\\begin{array}{cccccccccccc}1 & 0 & 0 & 0 & 0 & - \\frac{31}{169} & \\frac{112}{169} & \\frac{62}{169} & \\frac{8}{169} & - \\frac{14}{169} & - \\frac{43}{169} & \\frac{10}{169}\\\\0 & 1 & 0 & 0 & 0 & \\frac{8}{169} & - \\frac{18}{169} & - \\frac{16}{169} & - \\frac{122}{169} & \\frac{129}{169} & \\frac{22}{169} & \\frac{101}{169}\\\\0 & 0 & 1 & 0 & 0 & \\frac{168}{169} & - \\frac{40}{169} & \\frac{2}{169} & - \\frac{27}{169} & \\frac{174}{169} & \\frac{124}{169} & \\frac{93}{169}\\\\0 & 0 & 0 & 1 & 0 & - \\frac{237}{169} & \\frac{153}{169} & \\frac{136}{169} & - \\frac{146}{169} & - \\frac{167}{169} & - \\frac{18}{169} & \\frac{71}{169}\\\\0 & 0 & 0 & 0 & 1 & - \\frac{196}{169} & - \\frac{66}{169} & - \\frac{115}{169} & \\frac{116}{169} & - \\frac{34}{169} & \\frac{137}{169} & - \\frac{24}{169}\\end{array}\\right]$"
      ],
      "text/plain": [
       "Matrix([\n",
       "[1, 0, 0, 0, 0,  -31/169, 112/169,   62/169,    8/169,  -14/169, -43/169,  10/169],\n",
       "[0, 1, 0, 0, 0,    8/169, -18/169,  -16/169, -122/169,  129/169,  22/169, 101/169],\n",
       "[0, 0, 1, 0, 0,  168/169, -40/169,    2/169,  -27/169,  174/169, 124/169,  93/169],\n",
       "[0, 0, 0, 1, 0, -237/169, 153/169,  136/169, -146/169, -167/169, -18/169,  71/169],\n",
       "[0, 0, 0, 0, 1, -196/169, -66/169, -115/169,  116/169,  -34/169, 137/169, -24/169]])"
      ]
     },
     "execution_count": 12,
     "metadata": {},
     "output_type": "execute_result"
    }
   ],
   "source": [
    "X0[range(5),range(12)]"
   ]
  },
  {
   "cell_type": "code",
   "execution_count": 14,
   "id": "e571df1c",
   "metadata": {},
   "outputs": [
    {
     "data": {
      "text/latex": [
       "$\\displaystyle \\left[\\begin{array}{cccccccccccc}1 & 0 & 2 & 2 & 0 & -1 & 2 & 2 & -2 & 0 & 1 & 2\\\\0 & 1 & 6 & 5 & 0 & -1 & 3 & 4 & -6 & 2 & 4 & 6\\end{array}\\right]$"
      ],
      "text/plain": [
       "Matrix([\n",
       "[1, 0, 2, 2, 0, -1, 2, 2, -2, 0, 1, 2],\n",
       "[0, 1, 6, 5, 0, -1, 3, 4, -6, 2, 4, 6]])"
      ]
     },
     "execution_count": 14,
     "metadata": {},
     "output_type": "execute_result"
    }
   ],
   "source": [
    "B_int = X0[range(5,7),range(12,24)]\n",
    "B_int"
   ]
  },
  {
   "cell_type": "markdown",
   "id": "06e92d00",
   "metadata": {},
   "source": [
    "Vamos verificar que os vetores estão nos espaços $W_1$ e $W_2$. Precisa escrever as duas linhas como combinação linear das linhas de $M_1$ e $M_2$. Para isso, podemos usar a função `linsolve` disponível em SymPy. Note que quando trabalhamos com equações lineares, nós vamos trabalhar com as colunas da matriz e precisa-se trabalhar com as transpostas. "
   ]
  },
  {
   "cell_type": "code",
   "execution_count": 19,
   "id": "f7d3a753",
   "metadata": {},
   "outputs": [
    {
     "data": {
      "text/latex": [
       "$\\displaystyle \\left[\\begin{matrix}-1 & 0 & 1 & -3 & 8 & 2 & 1\\\\0 & 2 & -1 & 2 & -4 & 1 & 0\\\\-2 & 2 & 2 & -6 & 4 & 0 & 2\\\\-2 & 1 & -1 & 0 & 0 & 0 & 2\\\\0 & -2 & 1 & -2 & 2 & -2 & 0\\\\1 & 3 & 2 & -3 & 0 & 2 & -1\\\\-2 & 1 & -1 & 0 & 4 & 2 & 2\\\\-2 & 2 & -1 & 0 & 2 & 2 & 2\\\\2 & -4 & 2 & -2 & 4 & -2 & -2\\\\0 & 3 & 2 & -4 & 0 & 1 & 0\\\\-1 & 0 & 2 & -5 & 2 & -2 & 1\\\\-2 & 3 & 0 & -2 & 0 & 1 & 2\\end{matrix}\\right]$"
      ],
      "text/plain": [
       "Matrix([\n",
       "[-1,  0,  1, -3,  8,  2,  1],\n",
       "[ 0,  2, -1,  2, -4,  1,  0],\n",
       "[-2,  2,  2, -6,  4,  0,  2],\n",
       "[-2,  1, -1,  0,  0,  0,  2],\n",
       "[ 0, -2,  1, -2,  2, -2,  0],\n",
       "[ 1,  3,  2, -3,  0,  2, -1],\n",
       "[-2,  1, -1,  0,  4,  2,  2],\n",
       "[-2,  2, -1,  0,  2,  2,  2],\n",
       "[ 2, -4,  2, -2,  4, -2, -2],\n",
       "[ 0,  3,  2, -4,  0,  1,  0],\n",
       "[-1,  0,  2, -5,  2, -2,  1],\n",
       "[-2,  3,  0, -2,  0,  1,  2]])"
      ]
     },
     "execution_count": 19,
     "metadata": {},
     "output_type": "execute_result"
    }
   ],
   "source": [
    "M1_tr = M1.transpose()\n",
    "M1_tr = M1_tr.row_join( B_int[0,:].transpose())\n",
    "M1_tr"
   ]
  },
  {
   "cell_type": "code",
   "execution_count": 59,
   "id": "7d203b85",
   "metadata": {},
   "outputs": [
    {
     "data": {
      "text/latex": [
       "$\\displaystyle \\left( -2, \\  0, \\  2, \\  1, \\  0, \\  0\\right)$"
      ],
      "text/plain": [
       "(-2, 0, 2, 1, 0, 0)"
      ]
     },
     "execution_count": 59,
     "metadata": {},
     "output_type": "execute_result"
    }
   ],
   "source": [
    "sol = linsolve( M1_tr )\n",
    "(t1, t2) = sol.free_symbols\n",
    "coeffs = list(sol.subs( {t1:0,t2:1} ))[0]\n",
    "coeffs"
   ]
  },
  {
   "cell_type": "code",
   "execution_count": 72,
   "id": "eb0c05f1",
   "metadata": {},
   "outputs": [
    {
     "data": {
      "text/plain": [
       "True"
      ]
     },
     "execution_count": 72,
     "metadata": {},
     "output_type": "execute_result"
    }
   ],
   "source": [
    "-2*M1[0,:]+2*M1[2,:]+M1[3,:] == B_int[0,:]"
   ]
  },
  {
   "cell_type": "code",
   "execution_count": 80,
   "id": "673d3f7b",
   "metadata": {},
   "outputs": [
    {
     "data": {
      "text/latex": [
       "$\\displaystyle \\left\\{\\left( - \\tau_{0} - \\tau_{1} - 3, \\  - \\tau_{1}, \\  2 \\tau_{0} + \\tau_{1} + 1, \\  \\tau_{0}, \\  - \\frac{\\tau_{1}}{2} - \\frac{1}{2}, \\  \\tau_{1}\\right)\\right\\}$"
      ],
      "text/plain": [
       "{(-tau0 - tau1 - 3, -tau1, 2*tau0 + tau1 + 1, tau0, -tau1/2 - 1/2, tau1)}"
      ]
     },
     "execution_count": 80,
     "metadata": {},
     "output_type": "execute_result"
    }
   ],
   "source": [
    "M1_tr = M1.transpose()\n",
    "M1_tr = M1_tr.row_join( B_int[1,:].transpose())\n",
    "sol = linsolve( M1_tr )\n",
    "sol"
   ]
  },
  {
   "cell_type": "code",
   "execution_count": 81,
   "id": "1915c9e4",
   "metadata": {},
   "outputs": [
    {
     "data": {
      "text/latex": [
       "$\\displaystyle \\left( -4, \\  0, \\  3, \\  1, \\  - \\frac{1}{2}, \\  0\\right)$"
      ],
      "text/plain": [
       "(-4, 0, 3, 1, -1/2, 0)"
      ]
     },
     "execution_count": 81,
     "metadata": {},
     "output_type": "execute_result"
    }
   ],
   "source": [
    "(t1, t2) = sol.free_symbols\n",
    "coeffs = list(sol.subs( {t1:0,t2:1} ))[0]\n",
    "coeffs"
   ]
  },
  {
   "cell_type": "code",
   "execution_count": 79,
   "id": "1c350c15",
   "metadata": {},
   "outputs": [
    {
     "data": {
      "text/plain": [
       "True"
      ]
     },
     "execution_count": 79,
     "metadata": {},
     "output_type": "execute_result"
    }
   ],
   "source": [
    "-4*M1[0,:]+3*M1[2,:]+M1[3,:]-S(1)/2*M1[4,:] == B_int[1,:]"
   ]
  },
  {
   "cell_type": "markdown",
   "id": "f26c7837",
   "metadata": {},
   "source": [
    "Esta computação mostra que as duas linhas da matriz `B_int` pertencem ao espaço $W_1$. O leitor pode verificar que elas pertencem também ao espaço $W_2$. "
   ]
  },
  {
   "cell_type": "code",
   "execution_count": null,
   "id": "839601a3",
   "metadata": {},
   "outputs": [],
   "source": []
  }
 ],
 "metadata": {
  "kernelspec": {
   "display_name": "Python 3 (ipykernel)",
   "language": "python",
   "name": "python3"
  },
  "language_info": {
   "codemirror_mode": {
    "name": "ipython",
    "version": 3
   },
   "file_extension": ".py",
   "mimetype": "text/x-python",
   "name": "python",
   "nbconvert_exporter": "python",
   "pygments_lexer": "ipython3",
   "version": "3.10.12"
  }
 },
 "nbformat": 4,
 "nbformat_minor": 5
}
